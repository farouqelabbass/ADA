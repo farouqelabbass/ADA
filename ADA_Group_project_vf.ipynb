{
 "cells": [
  {
   "cell_type": "markdown",
   "id": "ebeaa91c",
   "metadata": {
    "id": "ebeaa91c"
   },
   "source": [
    "# Group project\n",
    "\n",
    "By delivering this notebook, we confirm that the group project was developed by the following students.\n",
    "\n",
    "## Student 1: STUDENT NAME, STUDENT NUMBER (TO BE FILLED BY THE STUDENT)\n",
    "## Student 2: STUDENT NAME, STUDENT NUMBER (TO BE FILLED BY THE STUDENT)\n"
   ]
  },
  {
   "cell_type": "markdown",
   "id": "d9e90bac",
   "metadata": {
    "id": "d9e90bac"
   },
   "source": [
    "The group project will focus on analysing data on flights in the US.\n",
    "\n",
    "Unless otherwise specified, the problems can be solved using either Spark or Pandas.\n",
    "\n",
    "Some useful links:\n",
    "\n",
    "* [Spark web site](https://spark.apache.org/)\n",
    "\n",
    "* [Spark MLlib main page](https://spark.apache.org/mllib/)\n",
    "* [Spark MLlib guide](https://spark.apache.org/docs/latest/ml-guide.html)\n",
    "\n",
    "* [Spark GraphX main page](https://spark.apache.org/graphx/)\n",
    "* [Spark GraphFrames main page](https://graphframes.github.io/graphframes/docs/_site/index.html)\n",
    "* [Spark GraphFrames User Guide](https://graphframes.github.io/graphframes/docs/_site/user-guide.html)\n"
   ]
  },
  {
   "cell_type": "markdown",
   "id": "b6f57801",
   "metadata": {
    "id": "b6f57801"
   },
   "source": [
    "## Colab setup\n",
    "\n",
    "The following cell will install Spark, if the notebook is running on COLAB. Before running this cell, you should access the following link [https://drive.google.com/drive/folders/1hylIwkzcOWjYMQW2wWSVRmAN9mEyGToP?usp=sharing](https://drive.google.com/drive/folders/1hylIwkzcOWjYMQW2wWSVRmAN9mEyGToP?usp=sharing)"
   ]
  },
  {
   "cell_type": "code",
   "execution_count": 1,
   "id": "5fae91c0",
   "metadata": {
    "id": "5fae91c0",
    "tags": []
   },
   "outputs": [],
   "source": [
    "#Run this cell to install Spark on Colab\n",
    "import os\n",
    "\n",
    "if 'COLAB_GPU' in os.environ : \n",
    "    !apt-get install openjdk-8-jdk-headless\n",
    "    !pip install pyspark==3.1.2\n",
    "    !wget https://repos.spark-packages.org/graphframes/graphframes/0.8.2-spark3.1-s_2.12/graphframes-0.8.2-spark3.1-s_2.12.jar\n",
    "    os.environ['PYSPARK_SUBMIT_ARGS'] = '--jars graphframes-0.8.2-spark3.1-s_2.12.jar pyspark-shell'\n",
    "\n",
    "    from google.colab import drive\n",
    "    drive.mount('/content/drive')\n",
    "\n"
   ]
  },
  {
   "cell_type": "markdown",
   "id": "9b22fa1b",
   "metadata": {
    "id": "9b22fa1b"
   },
   "source": [
    "## Local setup\n",
    "\n",
    "For running the group project locally, you should create a directory named **data** in the directory where you have this notebook. Then, you should download to the **data** directory the files in the following link: [https://drive.google.com/drive/folders/1hylIwkzcOWjYMQW2wWSVRmAN9mEyGToP?usp=sharing](https://drive.google.com/drive/folders/1hylIwkzcOWjYMQW2wWSVRmAN9mEyGToP?usp=sharing)."
   ]
  },
  {
   "cell_type": "markdown",
   "id": "83396505",
   "metadata": {
    "id": "83396505"
   },
   "source": [
    "## Initialization"
   ]
  },
  {
   "cell_type": "markdown",
   "id": "d3aac495",
   "metadata": {
    "id": "d3aac495"
   },
   "source": [
    "Import libraries. "
   ]
  },
  {
   "cell_type": "code",
   "execution_count": 1,
   "id": "69621cc6",
   "metadata": {
    "id": "69621cc6",
    "tags": []
   },
   "outputs": [
    {
     "name": "stdout",
     "output_type": "stream",
     "text": [
      "3.1.2\n"
     ]
    }
   ],
   "source": [
    "import os\n",
    "import time\n",
    "import pandas as pd\n",
    "import numpy as np\n",
    "import matplotlib.pyplot as plt\n",
    "import pyspark\n",
    "from pyspark.sql import SparkSession\n",
    "from pyspark.sql.types import *\n",
    "import pyspark.sql.functions as f\n",
    "from pyspark.sql.functions import *\n",
    "from pyspark.ml.linalg import Vectors\n",
    "import seaborn as sns\n",
    "\n",
    "plt.style.use('seaborn')\n",
    "\n",
    "print(pyspark.__version__)\n"
   ]
  },
  {
   "cell_type": "markdown",
   "id": "ee5839cf",
   "metadata": {
    "id": "ee5839cf"
   },
   "source": [
    "Let's start spark session and set *log* level to ERROR."
   ]
  },
  {
   "cell_type": "code",
   "execution_count": 2,
   "id": "6ad40951",
   "metadata": {
    "id": "6ad40951",
    "tags": []
   },
   "outputs": [
    {
     "name": "stderr",
     "output_type": "stream",
     "text": [
      "WARNING: An illegal reflective access operation has occurred\n",
      "WARNING: Illegal reflective access by org.apache.spark.unsafe.Platform (file:/usr/local/spark-3.1.2-bin-hadoop3.2/jars/spark-unsafe_2.12-3.1.2.jar) to constructor java.nio.DirectByteBuffer(long,int)\n",
      "WARNING: Please consider reporting this to the maintainers of org.apache.spark.unsafe.Platform\n",
      "WARNING: Use --illegal-access=warn to enable warnings of further illegal reflective access operations\n",
      "WARNING: All illegal access operations will be denied in a future release\n",
      "21/12/07 19:16:37 WARN NativeCodeLoader: Unable to load native-hadoop library for your platform... using builtin-java classes where applicable\n",
      "Using Spark's default log4j profile: org/apache/spark/log4j-defaults.properties\n",
      "Setting default log level to \"WARN\".\n",
      "To adjust logging level use sc.setLogLevel(newLevel). For SparkR, use setLogLevel(newLevel).\n"
     ]
    }
   ],
   "source": [
    "spark = SparkSession.builder \\\n",
    "    .master(\"local\") \\\n",
    "    .appName(\"Group project\") \\\n",
    "    .config(\"spark.sql.execution.arrow.pyspark.enabled\", \"true\") \\\n",
    "    .getOrCreate()\n",
    "\n",
    "if 'COLAB_GPU' in os.environ : \n",
    "    spark.sparkContext.addPyFile('graphframes-0.8.2-spark3.1-s_2.12.jar')\n",
    "elif 'DATABRICKS_RUNTIME_VERSION' in os.environ : \n",
    "    # TO BE COMPLETE\n",
    "    ;\n",
    "else:\n",
    "    spark.sparkContext.addPyFile('/usr/local/spark/jars/graphframes-0.8.1-spark3.0-s_2.12.jar')\n",
    "\n",
    "\n",
    "spark.sparkContext.setLogLevel(\"ERROR\")"
   ]
  },
  {
   "cell_type": "markdown",
   "id": "e23071d0",
   "metadata": {
    "id": "e23071d0"
   },
   "source": [
    "## Data selection\n",
    "\n",
    "This cell controls the dataset you will be using. Note that this cell will control the path to the files, dependening on the platform you are using to run the code.\n"
   ]
  },
  {
   "cell_type": "code",
   "execution_count": 3,
   "id": "c836342f",
   "metadata": {
    "id": "c836342f",
    "tags": []
   },
   "outputs": [],
   "source": [
    "# Comment the following \n",
    "flightsF = \"sample.csv\"\n",
    "# flightsF = \"complete.csv\"\n",
    "#flightsF = \"data-2009.csv\"\n",
    "#flightsF = \"data-2010.csv\"\n",
    "#flightsF = \"data-2011.csv\"\n",
    "#flightsF = \"data-2012.csv\"\n",
    "#flightsF = \"data-2013.csv\"\n",
    "#flightsF = \"data-2014.csv\"\n",
    "#flightsF = \"data-2015.csv\"\n",
    "#flightsF = \"data-2016.csv\"\n",
    "#flightsF = \"data-2017.csv\"\n",
    "#flightsF = \"data-2018.csv\"\n",
    "\n",
    "if 'COLAB_GPU' in os.environ : \n",
    "    FLIGHTS_FILENAME = \"/content/drive/MyDrive/group2122/\" + flightsF\n",
    "    AIRPORTS_FILENAME = \"/content/drive/MyDrive/group2122/airports.csv\"\n",
    "    HOLIDAYS_FILENAME = \"/content/drive/MyDrive/group2122/holidays.csv\"\n",
    "elif 'DATABRICKS_RUNTIME_VERSION' in os.environ : \n",
    "    # TO BE COMPLETE\n",
    "    ;\n",
    "else:\n",
    "    FLIGHTS_FILENAME = os.path.join( \"data\", flightsF)\n",
    "    AIRPORTS_FILENAME = os.path.join( \"data\", \"airports.csv\")\n",
    "    HOLIDAYS_FILENAME = os.path.join( \"data\", \"holidays.csv\")"
   ]
  },
  {
   "cell_type": "markdown",
   "id": "198a44fe",
   "metadata": {
    "id": "198a44fe"
   },
   "source": [
    "## Datasets\n",
    "\n",
    "This section describes the datasets you have available for your analysis."
   ]
  },
  {
   "cell_type": "markdown",
   "id": "514ef634",
   "metadata": {
    "id": "514ef634"
   },
   "source": [
    "### Flights\n",
    "\n",
    "The flights dataset, generated from data available at [https://www.transtats.bts.gov/DataIndex.asp](https://www.transtats.bts.gov/DataIndex.asp), includes the following columns:\n",
    "\n",
    "* FL_DATE: date of the flight (format: yyyy-mm-dd)\n",
    "* OP_CARRIER: carrier code\n",
    "* OP_CARRIER_FL_NUM: carrier flight number\n",
    "* ORIGIN: origin airport (using IATA codes)\n",
    "* DEST: destination airport (using IATA codes)\n",
    "* CRS_DEP_TIME: scheduled local departure time (format for all times: hh:mm)\n",
    "* DEP_TIME: actual departure time\n",
    "* DEP_DELAY: departure delay, in minutes\n",
    "* TAXI_OUT: taxi out time\n",
    "* WHEELS_OFF: actual local wheel off time\n",
    "* WHEELS_ON: actual local wheel on time\n",
    "* TAXI_IN: actual local taxi in time\n",
    "* CRS_ARR_TIME: scheduled local arrival time\n",
    "* ARR_TIME: actual arrival time\n",
    "* ARR_DELAY: arrival delay, in minutes\n",
    "* CANCELLED: 1 if the flight has been cancelled; 0 otherwise\n",
    "* CANCELLATION_CODE: code of cancelation (A = carrier, B = weather, C = NAS, D = security)\n",
    "* DIVERTED: 1 if the flight has been diverted; 0 otherwise\n",
    "* CRS_ELAPSED_TIME: estimated elapsed time\n",
    "* ACTUAL_ELAPSED_TIME: actual elapsed time\n",
    "* AIR_TIME: flight time, in minutes\n",
    "* DISTANCE: flight distance, in miles\n",
    "* CARRIER_DELAY: delay due to carrier, in minutes\n",
    "* WEATHER_DELAY: delay due to weather, in minutes\n",
    "* NAS_DELAY: delay due to NAS, in minutes\n",
    "* SECURITY_DELAY: delay due to security, in minutes\n",
    "* LATE_AIRCRAFT_DELAY: delay due to late aircraft, in minutes\n",
    "\n",
    "The following data files are available:\n",
    "\n",
    "* complete.csv : complete data set, including data from 2009 to 2018\n",
    "* sample.csv : sample data set, including data from July 1 to July 15, from years 2009 to 2018\n",
    "* data-20xx.csv : data set for a particular year\n",
    "\n",
    "Load the dataset into flightsDF dataframe and register flights under view name **flights**. We are setting the schema programmatically, because inferring the schema in a very large dataframe is slow.\n"
   ]
  },
  {
   "cell_type": "code",
   "execution_count": 4,
   "id": "a4ac960a",
   "metadata": {
    "id": "a4ac960a",
    "tags": []
   },
   "outputs": [
    {
     "name": "stdout",
     "output_type": "stream",
     "text": [
      "+----------+----------+-----------------+------+----+------------+--------+---------+--------+----------+---------+-------+------------+--------+---------+---------+-----------------+--------+----------------+-------------------+--------+--------+-------------+-------------+---------+--------------+-------------------+\n",
      "|   FL_DATE|OP_CARRIER|OP_CARRIER_FL_NUM|ORIGIN|DEST|CRS_DEP_TIME|DEP_TIME|DEP_DELAY|TAXI_OUT|WHEELS_OFF|WHEELS_ON|TAXI_IN|CRS_ARR_TIME|ARR_TIME|ARR_DELAY|CANCELLED|CANCELLATION_CODE|DIVERTED|CRS_ELAPSED_TIME|ACTUAL_ELAPSED_TIME|AIR_TIME|DISTANCE|CARRIER_DELAY|WEATHER_DELAY|NAS_DELAY|SECURITY_DELAY|LATE_AIRCRAFT_DELAY|\n",
      "+----------+----------+-----------------+------+----+------------+--------+---------+--------+----------+---------+-------+------------+--------+---------+---------+-----------------+--------+----------------+-------------------+--------+--------+-------------+-------------+---------+--------------+-------------------+\n",
      "|2009-07-01|        XE|             5660|   ORD| ROC|       07:17|   07:11|       -6|      12|     07:23|    09:39|      4|       09:56|   09:43|      -13|        0|             null|       0|              99|                 92|      76|     528|         null|         null|     null|          null|               null|\n",
      "|2009-07-01|        XE|             5661|   ROC| ORD|       09:48|   09:43|       -5|       7|     09:50|    10:11|     22|       10:38|   10:33|       -5|        0|             null|       0|             110|                110|      81|     528|         null|         null|     null|          null|               null|\n",
      "|2009-07-01|        XE|             5662|   ORD| SDF|       10:26|   10:22|       -4|       9|     10:31|    12:20|      7|       12:50|   12:27|      -23|        0|             null|       0|              84|                 65|      49|     286|         null|         null|     null|          null|               null|\n",
      "+----------+----------+-----------------+------+----+------------+--------+---------+--------+----------+---------+-------+------------+--------+---------+---------+-----------------+--------+----------------+-------------------+--------+--------+-------------+-------------+---------+--------------+-------------------+\n",
      "only showing top 3 rows\n",
      "\n"
     ]
    }
   ],
   "source": [
    "flightsSchema = StructType([\n",
    "    StructField(\"FL_DATE\", DateType()),\n",
    "    StructField(\"OP_CARRIER\", StringType()),\n",
    "    StructField(\"OP_CARRIER_FL_NUM\", IntegerType()),\n",
    "    StructField(\"ORIGIN\", StringType()),\n",
    "    StructField(\"DEST\", StringType()),\n",
    "    StructField(\"CRS_DEP_TIME\", StringType()),\n",
    "    StructField(\"DEP_TIME\", StringType()),\n",
    "    StructField(\"DEP_DELAY\", IntegerType()),\n",
    "    StructField(\"TAXI_OUT\", IntegerType()),\n",
    "    StructField(\"WHEELS_OFF\", StringType()),\n",
    "    StructField(\"WHEELS_ON\", StringType()),\n",
    "    StructField(\"TAXI_IN\", IntegerType()),\n",
    "    StructField(\"CRS_ARR_TIME\", StringType()),\n",
    "    StructField(\"ARR_TIME\", StringType()),\n",
    "    StructField(\"ARR_DELAY\", IntegerType()),\n",
    "    StructField(\"CANCELLED\", IntegerType()),\n",
    "    StructField(\"CANCELLATION_CODE\", StringType()),\n",
    "    StructField(\"DIVERTED\", IntegerType()),\n",
    "    StructField(\"CRS_ELAPSED_TIME\", IntegerType()),\n",
    "    StructField(\"ACTUAL_ELAPSED_TIME\", IntegerType()),\n",
    "    StructField(\"AIR_TIME\", IntegerType()),\n",
    "    StructField(\"DISTANCE\", IntegerType()),\n",
    "    StructField(\"CARRIER_DELAY\", IntegerType()),\n",
    "    StructField(\"WEATHER_DELAY\", IntegerType()),\n",
    "    StructField(\"NAS_DELAY\", IntegerType()),\n",
    "    StructField(\"SECURITY_DELAY\", IntegerType()),\n",
    "    StructField(\"LATE_AIRCRAFT_DELAY\", IntegerType())\n",
    "    ])\n",
    "\n",
    "flightsDF = spark.read.option(\"header\", True).schema(flightsSchema).csv(FLIGHTS_FILENAME)\n",
    "\n",
    "flightsDF.createOrReplaceTempView(\"flights\")\n",
    "\n",
    "flightsDF.show(3)"
   ]
  },
  {
   "cell_type": "markdown",
   "id": "3aaea788",
   "metadata": {
    "id": "3aaea788"
   },
   "source": [
    "### Airports\n",
    "\n",
    "The airports dataset includes the information about US airports - soure: [https://datahub.io/core/airport-codes](https://datahub.io/core/airport-codes).\n",
    "\n",
    "This dataset includes the following columns:\n",
    "\n",
    "* ident: identifier\n",
    "* type: type of airport\n",
    "* name: name of airport\n",
    "* elevation_ft: altitude, in feets\n",
    "* continent: code of continent\n",
    "* iso_country: coide of country\n",
    "* iso_regio: code of region\n",
    "* municipality: city\n",
    "* gps_code: code of GPS\n",
    "* iata_code: IATA code of aurport\n",
    "* local_code: local code of airport\n",
    "* coordinates: coordinates of airport\n",
    "\n",
    "Load the dataset into airportDF dataframe and register airports under view name **airports**.\n"
   ]
  },
  {
   "cell_type": "code",
   "execution_count": 5,
   "id": "d558994b",
   "metadata": {
    "id": "d558994b",
    "tags": []
   },
   "outputs": [
    {
     "name": "stdout",
     "output_type": "stream",
     "text": [
      "+-----+-------------+--------------------+------------+---------+-----------+----------+------------+--------+---------+----------+--------------------+\n",
      "|ident|         type|                name|elevation_ft|continent|iso_country|iso_region|municipality|gps_code|iata_code|local_code|         coordinates|\n",
      "+-----+-------------+--------------------+------------+---------+-----------+----------+------------+--------+---------+----------+--------------------+\n",
      "|  00A|     heliport|   Total Rf Heliport|          11|       NA|         US|     US-PA|    Bensalem|     00A|     null|       00A|-74.9336013793945...|\n",
      "| 00AA|small_airport|Aero B Ranch Airport|        3435|       NA|         US|     US-KS|       Leoti|    00AA|     null|      00AA|-101.473911, 38.7...|\n",
      "| 00AK|small_airport|        Lowell Field|         450|       NA|         US|     US-AK|Anchor Point|    00AK|     null|      00AK|-151.695999146, 5...|\n",
      "+-----+-------------+--------------------+------------+---------+-----------+----------+------------+--------+---------+----------+--------------------+\n",
      "only showing top 3 rows\n",
      "\n"
     ]
    }
   ],
   "source": [
    "airportsDF = spark.read.option(\"header\", True).option(\"inferSchema\",True).csv(AIRPORTS_FILENAME)\n",
    "\n",
    "airportsDF.createOrReplaceTempView(\"airports\")\n",
    "\n",
    "airportsDF.show(3)"
   ]
  },
  {
   "cell_type": "markdown",
   "id": "122d4c09",
   "metadata": {
    "id": "122d4c09"
   },
   "source": [
    "Exemplify how you can plot information about airports."
   ]
  },
  {
   "cell_type": "code",
   "execution_count": 6,
   "id": "892455de",
   "metadata": {
    "id": "892455de",
    "tags": []
   },
   "outputs": [
    {
     "name": "stdout",
     "output_type": "stream",
     "text": [
      "Plotting airport location - using altitude for different color\n"
     ]
    },
    {
     "data": {
      "text/plain": [
       "<AxesSubplot:xlabel='lon', ylabel='lat'>"
      ]
     },
     "execution_count": 6,
     "metadata": {},
     "output_type": "execute_result"
    },
    {
     "data": {
      "image/png": "[encoded data removed]",
      "text/plain": [
       "<Figure size 1152x576 with 2 Axes>"
      ]
     },
     "metadata": {},
     "output_type": "display_data"
    }
   ],
   "source": [
    "airportLocDF = spark.sql(\"\"\"SELECT FLOAT(TRIM(SUBSTRING_INDEX(coordinates,',',1))) AS lon,\n",
    "                                    FLOAT(TRIM(SUBSTRING_INDEX(coordinates,',',-1))) AS lat,\n",
    "                                    elevation_ft AS val\n",
    "                        FROM airports \n",
    "                        WHERE type = 'large_airport' AND continent = 'NA' AND iso_country = 'US'\"\"\")\n",
    "\n",
    "print('Plotting airport location - using altitude for different color')\n",
    "airportLocPD = airportLocDF.toPandas()\n",
    "airportLocPD.plot(x=\"lon\",y=\"lat\",c=\"val\",s=10,cmap=\"rainbow\",kind=\"scatter\", figsize=(16,8))"
   ]
  },
  {
   "cell_type": "markdown",
   "id": "e9c5d9b9",
   "metadata": {
    "id": "e9c5d9b9"
   },
   "source": [
    "### Public holidays\n",
    "\n",
    "Dates of public holidays in the US.\n",
    "\n",
    "This dataset includes the following columns:\n",
    "\n",
    "* Date: date (format: yyyy-mm-dd)\n",
    "* Holiday: name of the holiday\n",
    "* WeekDay: day of week\n",
    "* Month: month (1-12)\n",
    "* Day: day (1-31)\n",
    "* Year: year (2002-2021)\n",
    "\n",
    "Load the dataset into holidaysDF dataframe and register holidays under view name **holidays**.\n"
   ]
  },
  {
   "cell_type": "code",
   "execution_count": 7,
   "id": "d9f5f8df",
   "metadata": {
    "id": "d9f5f8df",
    "tags": []
   },
   "outputs": [
    {
     "name": "stdout",
     "output_type": "stream",
     "text": [
      "+----------+-----------+-------+-----+---+----+\n",
      "|      Date|    Holiday|WeekDay|Month|Day|Year|\n",
      "+----------+-----------+-------+-----+---+----+\n",
      "|2004-07-04|4th of July| Sunday|    7|  4|2004|\n",
      "|2005-07-04|4th of July| Monday|    7|  4|2005|\n",
      "|2006-07-04|4th of July|Tuesday|    7|  4|2006|\n",
      "+----------+-----------+-------+-----+---+----+\n",
      "only showing top 3 rows\n",
      "\n"
     ]
    }
   ],
   "source": [
    "holidaysDF = spark.read.option(\"header\", True).option(\"inferSchema\",True).csv(HOLIDAYS_FILENAME)\n",
    "\n",
    "holidaysDF.createOrReplaceTempView(\"holidays\")\n",
    "\n",
    "holidaysDF.show(3)"
   ]
  },
  {
   "cell_type": "markdown",
   "id": "47dcbef8",
   "metadata": {
    "id": "47dcbef8"
   },
   "source": [
    "## Problem 0 [1 point]\n",
    "\n",
    "We start by executing some simple statistics to compare the execution time between Spark and Pandas.\n"
   ]
  },
  {
   "cell_type": "markdown",
   "id": "65575f27",
   "metadata": {
    "id": "65575f27"
   },
   "source": [
    "### Code: Spark"
   ]
  },
  {
   "cell_type": "code",
   "execution_count": 16,
   "id": "782b53bb",
   "metadata": {
    "id": "782b53bb",
    "tags": []
   },
   "outputs": [
    {
     "name": "stderr",
     "output_type": "stream",
     "text": [
      "                                                                                \r"
     ]
    },
    {
     "name": "stdout",
     "output_type": "stream",
     "text": [
      "+----------+-----------+\n",
      "|OP_CARRIER|num_flights|\n",
      "+----------+-----------+\n",
      "|        UA|    4826658|\n",
      "|        NK|     588574|\n",
      "|        AA|    6682161|\n",
      "|        NW|     292400|\n",
      "|        EV|    4726445|\n",
      "|        B6|    2483969|\n",
      "|        DL|    7841880|\n",
      "|        OO|    6263052|\n",
      "|        F9|     903218|\n",
      "|        YV|    1063558|\n",
      "|        US|    2657286|\n",
      "|        MQ|    3216260|\n",
      "|        OH|     577060|\n",
      "|        HA|     744991|\n",
      "|        XE|    1105864|\n",
      "|        G4|      96221|\n",
      "|        YX|     316090|\n",
      "|        AS|    1660539|\n",
      "|        FL|    1218389|\n",
      "|        CO|     740498|\n",
      "+----------+-----------+\n",
      "only showing top 20 rows\n",
      "\n",
      "Runtime = 286.83185291290283\n"
     ]
    }
   ],
   "source": [
    "start_time = time.time()\n",
    "\n",
    "flightsSchema = StructType([\n",
    "    StructField(\"FL_DATE\", DateType()),\n",
    "    StructField(\"OP_CARRIER\", StringType()),\n",
    "    StructField(\"OP_CARRIER_FL_NUM\", IntegerType()),\n",
    "    StructField(\"ORIGIN\", StringType()),\n",
    "    StructField(\"DEST\", StringType()),\n",
    "    StructField(\"CRS_DEP_TIME\", StringType()),\n",
    "    StructField(\"DEP_TIME\", StringType()),\n",
    "    StructField(\"DEP_DELAY\", IntegerType()),\n",
    "    StructField(\"TAXI_OUT\", IntegerType()),\n",
    "    StructField(\"WHEELS_OFF\", StringType()),\n",
    "    StructField(\"WHEELS_ON\", StringType()),\n",
    "    StructField(\"TAXI_IN\", IntegerType()),\n",
    "    StructField(\"CRS_ARR_TIME\", StringType()),\n",
    "    StructField(\"ARR_TIME\", StringType()),\n",
    "    StructField(\"ARR_DELAY\", IntegerType()),\n",
    "    StructField(\"CANCELLED\", IntegerType()),\n",
    "    StructField(\"CANCELLATION_CODE\", StringType()),\n",
    "    StructField(\"DIVERTED\", IntegerType()),\n",
    "    StructField(\"CRS_ELAPSED_TIME\", IntegerType()),\n",
    "    StructField(\"ACTUAL_ELAPSED_TIME\", IntegerType()),\n",
    "    StructField(\"AIR_TIME\", IntegerType()),\n",
    "    StructField(\"DISTANCE\", IntegerType()),\n",
    "    StructField(\"CARRIER_DELAY\", IntegerType()),\n",
    "    StructField(\"WEATHER_DELAY\", IntegerType()),\n",
    "    StructField(\"NAS_DELAY\", IntegerType()),\n",
    "    StructField(\"SECURITY_DELAY\", IntegerType()),\n",
    "    StructField(\"LATE_AIRCRAFT_DELAY\", IntegerType())\n",
    "    ])\n",
    "\n",
    "flightsDF = spark.read.option(\"header\", True).schema(flightsSchema).csv(FLIGHTS_FILENAME)\n",
    "\n",
    "flightsDF.createOrReplaceTempView(\"flights_new\")\n",
    "\n",
    "result = spark.sql(\"SELECT OP_CARRIER, count(*) AS num_flights FROM flights_new GROUP BY OP_CARRIER\")\n",
    "result.show()\n",
    "\n",
    "end_time = time.time()\n",
    "print( \"Runtime = \" + str(end_time - start_time))"
   ]
  },
  {
   "cell_type": "markdown",
   "id": "393ed265",
   "metadata": {
    "id": "393ed265"
   },
   "source": [
    "* Execution time for sample.csv: \n",
    "* Execution time for complete.csv: \n",
    "\n",
    "Using GPU @ Colab (go to Execution time menu and change the type of execution time to include GPU):\n",
    "\n",
    "* Execution time for sample.csv: \n",
    "* Execution time for complete.csv: \n"
   ]
  },
  {
   "cell_type": "markdown",
   "id": "13e0b6a7",
   "metadata": {
    "id": "13e0b6a7"
   },
   "source": [
    "### Code: Pandas library"
   ]
  },
  {
   "cell_type": "code",
   "execution_count": null,
   "id": "bd002811",
   "metadata": {
    "id": "bd002811",
    "tags": []
   },
   "outputs": [],
   "source": [
    "import pandas as pd\n",
    "import time\n",
    "\n",
    "start_time = time.time()\n",
    "mySchema = {\"FL_DATE\": \"str\",\n",
    "            \"OP_CARRIER\": \"str\",\n",
    "            \"OP_CARRIER_FL_NUM\":\"Int64\",\n",
    "            \"ORIGIN\":\"str\",\n",
    "            \"DEST\":\"str\",\n",
    "            \"CRS_DEP_TIME\":\"str\",\n",
    "            \"DEP_TIME\":\"str\",\n",
    "            \"DEP_DELAY\":\"Int64\",\n",
    "            \"TAXI_OUT\":\"Int64\",\n",
    "            \"WHEELS_OFF\":\"str\",\n",
    "            \"WHEELS_ON\":\"str\",\n",
    "            \"TAXI_IN\":\"Int64\",\n",
    "            \"CRS_ARR_TIME\":\"str\",\n",
    "            \"ARR_TIME\":\"str\",\n",
    "            \"ARR_DELAY\":\"Int64\",\n",
    "            \"CANCELLED\":\"Int64\",\n",
    "            \"CANCELLATION_CODE\":\"str\",\n",
    "            \"DIVERTED\":\"Int64\",\n",
    "            \"CRS_ELAPSED_TIME\":\"Int64\",\n",
    "            \"ACTUAL_ELAPSED_TIME\":\"Int64\",\n",
    "            \"AIR_TIME\":\"Int64\",\n",
    "            \"DISTANCE\":\"Int64\",\n",
    "            \"CARRIER_DELAY\":\"Int64\",\n",
    "            \"WEATHER_DELAY\":\"Int64\",\n",
    "            \"NAS_DELAY\":\"Int64\",\n",
    "            \"SECURITY_DELAY\":\"Int64\",\n",
    "            \"LATE_AIRCRAFT_DELAY\":\"Int64\"\n",
    "           }\n",
    "\n",
    "dataframe = pd.read_csv(FLIGHTS_FILENAME,dtype=mySchema)\n",
    "result = dataframe[[\"FL_DATE\",\"OP_CARRIER\"]].groupby(\"OP_CARRIER\").count()\n",
    "print(result)\n",
    "\n",
    "end_time = time.time()\n",
    "\n",
    "print( \"Runtime = \" + str(end_time - start_time))"
   ]
  },
  {
   "cell_type": "markdown",
   "id": "5c51c285",
   "metadata": {
    "id": "5c51c285"
   },
   "source": [
    "* Execution time for sample.csv: \n",
    "* Execution time for complete.csv: "
   ]
  },
  {
   "cell_type": "markdown",
   "id": "7bf0588a",
   "metadata": {
    "id": "7bf0588a"
   },
   "source": [
    "**Discuss the results you have obtained:**\n",
    "\n",
    "For Sample.csv, we have on Spark 15.034723281860352 seconds, and on Pandas 40.35684871673584 seconds.\n",
    "\n",
    "For Complete.csv, we have on Spark 286.83185291290283, and on Pandas our computers always aborts the calculus.\n",
    "\n",
    "_**The difference can be explained by how the computation are made. Pyspark uses Map-Reduce concept, which very fast for large datasets. Dividing the task to smaller ones and executing them in parallel reduce data latency which makes it faster than normal one from Pandas, which does all computations on the data at one time.**_"
   ]
  },
  {
   "cell_type": "markdown",
   "id": "37d86190",
   "metadata": {
    "id": "37d86190"
   },
   "source": [
    "## Problem 1 [4 points]\n",
    "\n",
    "In this first problem, you should compute a set of statistics on the data.\n"
   ]
  },
  {
   "cell_type": "markdown",
   "id": "af46f81e",
   "metadata": {
    "id": "af46f81e"
   },
   "source": [
    "### Top-20 airports with more flights (include the name of the airport)"
   ]
  },
  {
   "cell_type": "code",
   "execution_count": 9,
   "id": "4150f6af",
   "metadata": {
    "id": "4150f6af",
    "tags": []
   },
   "outputs": [],
   "source": [
    "# TO COMPLETE\n",
    "originDF = spark.sql(\"\"\"SELECT F.ORIGIN, COUNT(ORIGIN) AS count_origin\n",
    "                       FROM flights F INNER JOIN airports A ON F.ORIGIN=A.iata_code \n",
    "                       GROUP BY(ORIGIN)\n",
    "                       ORDER BY(count_origin) DESC\"\"\")\n",
    "originDF.createOrReplaceTempView(\"origin\")\n",
    "\n",
    "destDF = spark.sql(\"\"\"SELECT F.DEST, COUNT(DEST) AS count_dest\n",
    "                       FROM flights F INNER JOIN airports A ON F.DEST=A.iata_code \n",
    "                       GROUP BY(DEST)\n",
    "                       ORDER BY(count_dest) DESC\"\"\")\n",
    "destDF.createOrReplaceTempView(\"dest\")"
   ]
  },
  {
   "cell_type": "code",
   "execution_count": 10,
   "id": "b88d5bee-e648-4b96-99cb-a4124e926df9",
   "metadata": {
    "tags": []
   },
   "outputs": [
    {
     "name": "stderr",
     "output_type": "stream",
     "text": [
      "[Stage 12:==============================================>       (173 + 1) / 200]\r"
     ]
    },
    {
     "name": "stdout",
     "output_type": "stream",
     "text": [
      "+--------------------+-------+------+\n",
      "|                name|airport| total|\n",
      "+--------------------+-------+------+\n",
      "|Hartsfield Jackso...|    ATL|295144|\n",
      "|Chicago O'Hare In...|    ORD|230090|\n",
      "|Dallas Fort Worth...|    DFW|191254|\n",
      "|Denver Internatio...|    DEN|179855|\n",
      "|Los Angeles Inter...|    LAX|167369|\n",
      "|Phoenix Sky Harbo...|    PHX|127661|\n",
      "|George Bush Inter...|    IAH|127206|\n",
      "|San Francisco Int...|    SFO|126095|\n",
      "|McCarran Internat...|    LAS|110673|\n",
      "|Minneapolis-St Pa...|    MSP|102971|\n",
      "|Detroit Metropoli...|    DTW|100084|\n",
      "|Charlotte Douglas...|    CLT| 99251|\n",
      "|Seattle Tacoma In...|    SEA| 98724|\n",
      "|Orlando Internati...|    MCO| 93995|\n",
      "|General Edward La...|    BOS| 90605|\n",
      "|Salt Lake City In...|    SLC| 88530|\n",
      "|Newark Liberty In...|    EWR| 88330|\n",
      "|John F Kennedy In...|    JFK| 83848|\n",
      "|  La Guardia Airport|    LGA| 79760|\n",
      "|Baltimore/Washing...|    BWI| 78621|\n",
      "+--------------------+-------+------+\n",
      "only showing top 20 rows\n",
      "\n"
     ]
    },
    {
     "name": "stderr",
     "output_type": "stream",
     "text": [
      "                                                                                \r"
     ]
    }
   ],
   "source": [
    "totalDF = spark.sql(\"\"\"SELECT O.ORIGIN AS airport, O.count_origin + D.count_dest AS total\n",
    "                     FROM origin O INNER JOIN dest D ON O.ORIGIN=D.DEST \n",
    "                     ORDER BY (total) DESC\"\"\")\n",
    "totalDF.createOrReplaceTempView(\"total_df\")\n",
    "\n",
    "spark.sql(\"\"\"SELECT A.name, T.* FROM airports A INNER JOIN total_df T ON A.iata_code=T.airport ORDER BY(total) DESC\"\"\").show(20)"
   ]
  },
  {
   "cell_type": "markdown",
   "id": "b31863ee",
   "metadata": {
    "id": "b31863ee"
   },
   "source": [
    "### Top-20 days with more flights"
   ]
  },
  {
   "cell_type": "code",
   "execution_count": 215,
   "id": "17444e94",
   "metadata": {
    "id": "17444e94",
    "tags": []
   },
   "outputs": [
    {
     "name": "stderr",
     "output_type": "stream",
     "text": [
      "[Stage 285:============================>                            (1 + 1) / 2]\r"
     ]
    },
    {
     "name": "stdout",
     "output_type": "stream",
     "text": [
      "+----------+-----+\n",
      "|      date|total|\n",
      "+----------+-----+\n",
      "|2018-07-13|22022|\n",
      "|2018-07-12|21966|\n",
      "|2018-07-09|21956|\n",
      "|2018-07-11|21736|\n",
      "|2018-07-10|21628|\n",
      "|2018-07-15|21262|\n",
      "|2018-07-08|21251|\n",
      "|2018-07-06|20393|\n",
      "|2018-07-01|19985|\n",
      "|2018-07-02|19727|\n",
      "|2018-07-05|19649|\n",
      "|2009-07-10|19425|\n",
      "|2009-07-02|19399|\n",
      "|2013-07-12|19391|\n",
      "|2009-07-09|19377|\n",
      "|2009-07-06|19362|\n",
      "|2013-07-08|19361|\n",
      "|2009-07-13|19356|\n",
      "|2013-07-15|19354|\n",
      "|2013-07-11|19349|\n",
      "+----------+-----+\n",
      "only showing top 20 rows\n",
      "\n"
     ]
    },
    {
     "name": "stderr",
     "output_type": "stream",
     "text": [
      "                                                                                \r"
     ]
    }
   ],
   "source": [
    "spark.sql(\"\"\"SELECT FL_DATE AS date, COUNT(FL_DATE) AS total FROM flights\n",
    "            GROUP BY (date)\n",
    "            ORDER BY (total) DESC\"\"\").show(20)"
   ]
  },
  {
   "cell_type": "markdown",
   "id": "66b96cde",
   "metadata": {
    "id": "66b96cde"
   },
   "source": [
    "### Periods with more flights: (morning 00:00-11:59, midday 12:00-17:59, evening 18:00-23:59)"
   ]
  },
  {
   "cell_type": "code",
   "execution_count": 30,
   "id": "66e9f1b8",
   "metadata": {
    "id": "66e9f1b8",
    "tags": []
   },
   "outputs": [
    {
     "name": "stderr",
     "output_type": "stream",
     "text": [
      "                                                                                \r"
     ]
    },
    {
     "name": "stdout",
     "output_type": "stream",
     "text": [
      "+---------------+\n",
      "|Flights_morning|\n",
      "+---------------+\n",
      "|        1063183|\n",
      "+---------------+\n",
      "\n"
     ]
    },
    {
     "name": "stderr",
     "output_type": "stream",
     "text": [
      "                                                                                \r"
     ]
    },
    {
     "name": "stdout",
     "output_type": "stream",
     "text": [
      "+--------------+\n",
      "|Flights_midday|\n",
      "+--------------+\n",
      "|       1124181|\n",
      "+--------------+\n",
      "\n"
     ]
    },
    {
     "name": "stderr",
     "output_type": "stream",
     "text": [
      "[Stage 56:=============================>                            (1 + 1) / 2]\r"
     ]
    },
    {
     "name": "stdout",
     "output_type": "stream",
     "text": [
      "+---------------+\n",
      "|Flights_evening|\n",
      "+---------------+\n",
      "|         842172|\n",
      "+---------------+\n",
      "\n"
     ]
    },
    {
     "name": "stderr",
     "output_type": "stream",
     "text": [
      "                                                                                \r"
     ]
    }
   ],
   "source": [
    "morningDF = spark.sql(\"\"\"SELECT FL_DATE, ORIGIN, DEST, DEP_TIME, ARR_TIME\n",
    "                         FROM flights WHERE (DEP_TIME < \"11:59\" AND DEP_TIME > \"00:00\") OR (ARR_TIME < \"11:59\" AND ARR_TIME > \"00:00\") \"\"\")\n",
    "\n",
    "middayDF = spark.sql(\"\"\"SELECT FL_DATE, ORIGIN, DEST, DEP_TIME, ARR_TIME\n",
    "                         FROM flights WHERE (DEP_TIME < \"17:59\" AND DEP_TIME > \"12:00\") OR (ARR_TIME < \"17:59\" AND ARR_TIME > \"12:00\") \"\"\")\n",
    "\n",
    "eveningDF = spark.sql(\"\"\"SELECT FL_DATE, ORIGIN, DEST, DEP_TIME, ARR_TIME\n",
    "                         FROM flights WHERE (DEP_TIME < \"23:59\" AND DEP_TIME > \"18:00\") OR (ARR_TIME < \"23:59\" AND ARR_TIME > \"18:00\") \"\"\")\n",
    "\n",
    "morningDF.createOrReplaceTempView(\"morning_df\")\n",
    "middayDF.createOrReplaceTempView(\"midday_df\")\n",
    "eveningDF.createOrReplaceTempView(\"evening_df\")\n",
    "#Cancelled\n",
    "\n",
    "spark.sql(\"\"\"SELECT COUNT(FL_DATE) AS Flights_morning FROM morning_df\"\"\").show()\n",
    "spark.sql(\"\"\"SELECT COUNT(FL_DATE) AS Flights_midday FROM midday_df\"\"\").show()\n",
    "spark.sql(\"\"\"SELECT COUNT(FL_DATE) AS Flights_evening FROM evening_df\"\"\").show()"
   ]
  },
  {
   "cell_type": "markdown",
   "id": "f9807206",
   "metadata": {
    "id": "f9807206"
   },
   "source": [
    "### Top-20 airports with longer delays"
   ]
  },
  {
   "cell_type": "code",
   "execution_count": 42,
   "id": "0c1ce622",
   "metadata": {
    "id": "0c1ce622",
    "tags": []
   },
   "outputs": [
    {
     "name": "stderr",
     "output_type": "stream",
     "text": [
      "[Stage 69:=============================>                            (1 + 1) / 2]\r"
     ]
    },
    {
     "name": "stdout",
     "output_type": "stream",
     "text": [
      "+--------------------+---------+---------+\n",
      "|                name|iata_code|DEP_DELAY|\n",
      "+--------------------+---------+---------+\n",
      "|Charlotte Douglas...|      CLT|     2710|\n",
      "|Portland Internat...|      PDX|     2445|\n",
      "|McCarran Internat...|      LAS|     1847|\n",
      "|Indianapolis Inte...|      IND|     1625|\n",
      "|Charlottesville A...|      CHO|     1543|\n",
      "|Ellison Onizuka K...|      KOA|     1485|\n",
      "|Chicago Midway In...|      MDW|     1467|\n",
      "|Charleston Air Fo...|      CHS|     1422|\n",
      "|Cleveland Hopkins...|      CLE|     1390|\n",
      "|McCarran Internat...|      LAS|     1386|\n",
      "|Fort Lauderdale H...|      FLL|     1377|\n",
      "|Tucson Internatio...|      TUS|     1332|\n",
      "|Key West Internat...|      EYW|     1330|\n",
      "|Will Rogers World...|      OKC|     1324|\n",
      "|Hartsfield Jackso...|      ATL|     1318|\n",
      "|Idaho Falls Regio...|      IDA|     1316|\n",
      "|Sacramento Intern...|      SMF|     1307|\n",
      "|Albuquerque Inter...|      ABQ|     1302|\n",
      "|John F Kennedy In...|      JFK|     1295|\n",
      "|Pittsburgh Intern...|      PIT|     1294|\n",
      "+--------------------+---------+---------+\n",
      "only showing top 20 rows\n",
      "\n"
     ]
    },
    {
     "name": "stderr",
     "output_type": "stream",
     "text": [
      "                                                                                \r"
     ]
    }
   ],
   "source": [
    "spark.sql(\"\"\"SELECT A.name, A.iata_code, F.DEP_DELAY \n",
    "             FROM airports A INNER JOIN flights F ON A.iata_code=F.ORIGIN \n",
    "             ORDER BY (DEP_DELAY) DESC\"\"\").show(20)"
   ]
  },
  {
   "cell_type": "markdown",
   "id": "f39a9e96",
   "metadata": {
    "id": "f39a9e96"
   },
   "source": [
    "### Top 10 carriers with longer delays"
   ]
  },
  {
   "cell_type": "code",
   "execution_count": 44,
   "id": "8859452d",
   "metadata": {
    "id": "8859452d",
    "tags": []
   },
   "outputs": [
    {
     "name": "stderr",
     "output_type": "stream",
     "text": [
      "[Stage 70:=============================>                            (1 + 1) / 2]\r"
     ]
    },
    {
     "name": "stdout",
     "output_type": "stream",
     "text": [
      "+----------+-------------+\n",
      "|OP_CARRIER|CARRIER_DELAY|\n",
      "+----------+-------------+\n",
      "|        NW|         2439|\n",
      "|        HA|         1845|\n",
      "|        AA|         1625|\n",
      "|        MQ|         1527|\n",
      "|        NW|         1467|\n",
      "|        AA|         1421|\n",
      "|        AA|         1386|\n",
      "|        NW|         1343|\n",
      "|        EV|         1333|\n",
      "|        AA|         1332|\n",
      "+----------+-------------+\n",
      "only showing top 10 rows\n",
      "\n"
     ]
    },
    {
     "name": "stderr",
     "output_type": "stream",
     "text": [
      "                                                                                \r"
     ]
    }
   ],
   "source": [
    "spark.sql(\"\"\"SELECT OP_CARRIER, CARRIER_DELAY \n",
    "             FROM flights \n",
    "             ORDER BY (CARRIER_DELAY) DESC\"\"\").show(10)"
   ]
  },
  {
   "cell_type": "markdown",
   "id": "a4d1a5b6",
   "metadata": {
    "id": "a4d1a5b6"
   },
   "source": [
    "### Longer delays by period: (morning 00:00-11:59, midday 12:00-17:59, evening 18:00-23:59)\n"
   ]
  },
  {
   "cell_type": "code",
   "execution_count": 51,
   "id": "082b9fbf-41f3-41cd-8720-a733e909afc2",
   "metadata": {
    "tags": []
   },
   "outputs": [
    {
     "name": "stderr",
     "output_type": "stream",
     "text": [
      "                                                                                \r"
     ]
    },
    {
     "name": "stdout",
     "output_type": "stream",
     "text": [
      "+-----------------+\n",
      "|     morningdelay|\n",
      "+-----------------+\n",
      "|7.168764014946517|\n",
      "+-----------------+\n",
      "\n"
     ]
    },
    {
     "name": "stderr",
     "output_type": "stream",
     "text": [
      "                                                                                \r"
     ]
    },
    {
     "name": "stdout",
     "output_type": "stream",
     "text": [
      "+------------------+\n",
      "|       middaydelay|\n",
      "+------------------+\n",
      "|13.723491107363303|\n",
      "+------------------+\n",
      "\n"
     ]
    },
    {
     "name": "stderr",
     "output_type": "stream",
     "text": [
      "[Stage 84:=============================>                            (1 + 1) / 2]\r"
     ]
    },
    {
     "name": "stdout",
     "output_type": "stream",
     "text": [
      "+------------------+\n",
      "|      eveningdelay|\n",
      "+------------------+\n",
      "|28.020254425583595|\n",
      "+------------------+\n",
      "\n"
     ]
    },
    {
     "name": "stderr",
     "output_type": "stream",
     "text": [
      "                                                                                \r"
     ]
    }
   ],
   "source": [
    "spark.sql(\"\"\"SELECT AVG(CASE WHEN DEP_DELAY < 0 THEN 0 ELSE DEP_DELAY END) AS morningdelay from flights WHERE (DEP_TIME<\"11:59\" AND DEP_TIME>\"00:00\") \"\"\").show()\n",
    "spark.sql(\"\"\"SELECT AVG(CASE WHEN DEP_DELAY < 0 THEN 0 ELSE DEP_DELAY END) AS middaydelay from flights WHERE (DEP_TIME<\"17:59\" AND DEP_TIME>\"12:00\") \"\"\").show()\n",
    "spark.sql(\"\"\"SELECT AVG(CASE WHEN DEP_DELAY < 0 THEN 0 ELSE DEP_DELAY END) AS eveningdelay from flights WHERE (DEP_TIME<\"23:59\" AND DEP_TIME>\"18:00\") \"\"\").show()"
   ]
  },
  {
   "cell_type": "markdown",
   "id": "cbb581e1",
   "metadata": {
    "id": "cbb581e1"
   },
   "source": [
    "## Problem 2 [4 points]\n",
    "\n",
    "Assume you want to create a web site to help travellers get information about flight delays. The web site would allow a user to find out information about delays for the flight she want to take. \n",
    "The information about delays should include at least 3 statistics - suggestion: the average delay in the same route of the same carrier in the last 7 days, 30 days, 365 days, similar but considering only flights in the same week day, similar but considering flights in the same week day but excluding holidays, etc.\n",
    "\n",
    "To support this web site, it would be necessary to build one or more indices that would be used to answer the query of the user.\n",
    "\n",
    "Write the code to build these indices - for each index, print 5 lines."
   ]
  },
  {
   "cell_type": "code",
   "execution_count": 59,
   "id": "169418a4-d213-41fc-bf83-782ab7d5468a",
   "metadata": {},
   "outputs": [
    {
     "name": "stderr",
     "output_type": "stream",
     "text": [
      "                                                                                \r"
     ]
    }
   ],
   "source": [
    "maxdate = spark.sql(\"\"\"SELECT MAX(FL_DATE) FROM flights\"\"\")\n",
    "maxdate = maxdate.toPandas()\n",
    "maxdate = maxdate.iloc[0][\"max(FL_DATE)\"]"
   ]
  },
  {
   "cell_type": "code",
   "execution_count": 87,
   "id": "dfdffa63-06db-438a-9308-2df13700fea7",
   "metadata": {},
   "outputs": [
    {
     "name": "stderr",
     "output_type": "stream",
     "text": [
      "                                                                                \r"
     ]
    },
    {
     "name": "stdout",
     "output_type": "stream",
     "text": [
      "+----------+------+----+-------------------+\n",
      "|OP_CARRIER|ORIGIN|DEST|     avg(DEP_DELAY)|\n",
      "+----------+------+----+-------------------+\n",
      "|        WN|   AUS| ECP| 21.333333333333332|\n",
      "|        WN|   HRL| AUS|             22.875|\n",
      "|        WN|   MCI| ATL|  5.607142857142857|\n",
      "|        WN|   MHT| MCO|                1.4|\n",
      "|        WN|   MKE| BOS|-3.6923076923076925|\n",
      "+----------+------+----+-------------------+\n",
      "only showing top 5 rows\n",
      "\n"
     ]
    },
    {
     "name": "stderr",
     "output_type": "stream",
     "text": [
      "                                                                                \r"
     ]
    },
    {
     "name": "stdout",
     "output_type": "stream",
     "text": [
      "+----------+------+----+-------------------+\n",
      "|OP_CARRIER|ORIGIN|DEST|     avg(DEP_DELAY)|\n",
      "+----------+------+----+-------------------+\n",
      "|        9E|   ATL| GNV|0.02631578947368421|\n",
      "|        9E|   LGA| MSY| 2.5172413793103448|\n",
      "|        B6|   SYR| JFK|                8.9|\n",
      "|        B6|   HPN| MCO|                0.1|\n",
      "|        B6|   RSW| DCA|  40.06666666666667|\n",
      "+----------+------+----+-------------------+\n",
      "only showing top 5 rows\n",
      "\n"
     ]
    },
    {
     "name": "stderr",
     "output_type": "stream",
     "text": [
      "[Stage 51:=============================>                            (1 + 1) / 2]\r"
     ]
    },
    {
     "name": "stdout",
     "output_type": "stream",
     "text": [
      "+----------+------+----+------------------+\n",
      "|OP_CARRIER|ORIGIN|DEST|    avg(DEP_DELAY)|\n",
      "+----------+------+----+------------------+\n",
      "|        AS|   PDX| PHL|             -4.75|\n",
      "|        OO|   FWA| ORD|-1.964705882352941|\n",
      "|        OO|   MSP| IMT|              1.75|\n",
      "|        OO|   CID| MSP| 6.833333333333333|\n",
      "|        OO|   ORD| BGR|              7.75|\n",
      "+----------+------+----+------------------+\n",
      "only showing top 5 rows\n",
      "\n"
     ]
    },
    {
     "name": "stderr",
     "output_type": "stream",
     "text": [
      "                                                                                \r"
     ]
    },
    {
     "data": {
      "text/plain": [
       "DataFrame[FL_DATE: date, OP_CARRIER: string, ORIGIN: string, DEST: string, DEP_DELAY: int, Weekday: int]"
      ]
     },
     "execution_count": 87,
     "metadata": {},
     "output_type": "execute_result"
    }
   ],
   "source": [
    "import datetime\n",
    "from pyspark.sql.functions import dayofweek\n",
    "data = spark.sql(\"\"\"SELECT FL_DATE, OP_CARRIER, ORIGIN, DEST, DEP_DELAY FROM flights\"\"\")\n",
    "data.createOrReplaceTempView(\"data\")\n",
    "data.where(data[\"FL_DATE\"]>=maxdate-datetime.timedelta(days=7)).groupby(\"OP_CARRIER\",\"ORIGIN\",\"DEST\").mean(\"DEP_DELAY\").show(5)\n",
    "data.where(data[\"FL_DATE\"]>=maxdate-datetime.timedelta(days=30)).groupby(\"OP_CARRIER\",\"ORIGIN\",\"DEST\").mean(\"DEP_DELAY\").show(5)\n",
    "data.where(data[\"FL_DATE\"]>=maxdate-datetime.timedelta(days=365)).groupby(\"OP_CARRIER\",\"ORIGIN\",\"DEST\").mean(\"DEP_DELAY\").show(5)"
   ]
  },
  {
   "cell_type": "code",
   "execution_count": 98,
   "id": "15d96690-d699-4202-934f-1bb169723eb8",
   "metadata": {},
   "outputs": [
    {
     "name": "stderr",
     "output_type": "stream",
     "text": [
      "                                                                                \r"
     ]
    },
    {
     "name": "stdout",
     "output_type": "stream",
     "text": [
      "+----------+------+----+------------------+\n",
      "|OP_CARRIER|ORIGIN|DEST|    avg(DEP_DELAY)|\n",
      "+----------+------+----+------------------+\n",
      "|        9E|   IND| LGA|              -1.0|\n",
      "|        9E|   CVG| PHL|-6.333333333333333|\n",
      "|        9E|   LGA| MSY|              -6.0|\n",
      "|        9E|   ATL| GNV|              -3.0|\n",
      "|        B6|   SYR| JFK|             -11.0|\n",
      "+----------+------+----+------------------+\n",
      "only showing top 5 rows\n",
      "\n"
     ]
    },
    {
     "name": "stderr",
     "output_type": "stream",
     "text": [
      "                                                                                \r"
     ]
    },
    {
     "name": "stdout",
     "output_type": "stream",
     "text": [
      "+----------+------+----+--------------+\n",
      "|OP_CARRIER|ORIGIN|DEST|avg(DEP_DELAY)|\n",
      "+----------+------+----+--------------+\n",
      "|        9E|   ATL| GNV|         -3.25|\n",
      "|        9E|   LGA| MSY|         -5.25|\n",
      "|        B6|   SYR| JFK|        -10.75|\n",
      "|        B6|   HPN| MCO|        -2.625|\n",
      "|        B6|   RSW| DCA|          62.5|\n",
      "+----------+------+----+--------------+\n",
      "only showing top 5 rows\n",
      "\n"
     ]
    },
    {
     "name": "stderr",
     "output_type": "stream",
     "text": [
      "[Stage 65:=============================>                            (1 + 1) / 2]\r"
     ]
    },
    {
     "name": "stdout",
     "output_type": "stream",
     "text": [
      "+----------+------+----+--------------+\n",
      "|OP_CARRIER|ORIGIN|DEST|avg(DEP_DELAY)|\n",
      "+----------+------+----+--------------+\n",
      "|        9E|   ATL| GNV|         -3.25|\n",
      "|        9E|   LGA| MSY|         -5.25|\n",
      "|        B6|   SYR| JFK|        -10.75|\n",
      "|        B6|   HPN| MCO|        -2.625|\n",
      "|        B6|   RSW| DCA|          62.5|\n",
      "+----------+------+----+--------------+\n",
      "only showing top 5 rows\n",
      "\n"
     ]
    },
    {
     "name": "stderr",
     "output_type": "stream",
     "text": [
      "                                                                                \r"
     ]
    }
   ],
   "source": [
    "print(\"For Wednesday for example\")\n",
    "data = data.withColumn(\"Weekday\", (dayofweek(\"FL_DATE\")))\n",
    "data.where(data[\"Weekday\"] == 3).where(data[\"FL_DATE\"]>=maxdate-datetime.timedelta(days=7)).groupby(\"OP_CARRIER\",\"ORIGIN\",\"DEST\").mean(\"DEP_DELAY\").show(5)\n",
    "data.where(data[\"Weekday\"] == 3).where(data[\"FL_DATE\"]>=maxdate-datetime.timedelta(days=30)).groupby(\"OP_CARRIER\",\"ORIGIN\",\"DEST\").mean(\"DEP_DELAY\").show(5)\n",
    "data.where(data[\"Weekday\"] == 3).where(data[\"FL_DATE\"]>=maxdate-datetime.timedelta(days=365)).groupby(\"OP_CARRIER\",\"ORIGIN\",\"DEST\").mean(\"DEP_DELAY\").show(5)"
   ]
  },
  {
   "cell_type": "code",
   "execution_count": 102,
   "id": "0ea5c23a-fa02-4776-b807-128ceb75602e",
   "metadata": {},
   "outputs": [
    {
     "name": "stderr",
     "output_type": "stream",
     "text": [
      "                                                                                \r"
     ]
    },
    {
     "name": "stdout",
     "output_type": "stream",
     "text": [
      "+----------+------+----+------------------+\n",
      "|OP_CARRIER|ORIGIN|DEST|    avg(DEP_DELAY)|\n",
      "+----------+------+----+------------------+\n",
      "|        9E|   IND| LGA|              -1.0|\n",
      "|        9E|   CVG| PHL|-6.333333333333333|\n",
      "|        9E|   LGA| MSY|              -6.0|\n",
      "|        9E|   ATL| GNV|              -3.0|\n",
      "|        B6|   SYR| JFK|             -11.0|\n",
      "+----------+------+----+------------------+\n",
      "only showing top 5 rows\n",
      "\n"
     ]
    },
    {
     "name": "stderr",
     "output_type": "stream",
     "text": [
      "                                                                                \r"
     ]
    },
    {
     "name": "stdout",
     "output_type": "stream",
     "text": [
      "+----------+------+----+--------------+\n",
      "|OP_CARRIER|ORIGIN|DEST|avg(DEP_DELAY)|\n",
      "+----------+------+----+--------------+\n",
      "|        9E|   ATL| GNV|         -3.25|\n",
      "|        9E|   LGA| MSY|         -5.25|\n",
      "|        B6|   SYR| JFK|        -10.75|\n",
      "|        B6|   HPN| MCO|        -2.625|\n",
      "|        B6|   RSW| DCA|          62.5|\n",
      "+----------+------+----+--------------+\n",
      "only showing top 5 rows\n",
      "\n"
     ]
    },
    {
     "name": "stderr",
     "output_type": "stream",
     "text": [
      "[Stage 76:=============================>                            (1 + 1) / 2]\r"
     ]
    },
    {
     "name": "stdout",
     "output_type": "stream",
     "text": [
      "+----------+------+----+--------------+\n",
      "|OP_CARRIER|ORIGIN|DEST|avg(DEP_DELAY)|\n",
      "+----------+------+----+--------------+\n",
      "|        9E|   ATL| GNV|         -3.25|\n",
      "|        9E|   LGA| MSY|         -5.25|\n",
      "|        B6|   SYR| JFK|        -10.75|\n",
      "|        B6|   HPN| MCO|        -2.625|\n",
      "|        B6|   RSW| DCA|          62.5|\n",
      "+----------+------+----+--------------+\n",
      "only showing top 5 rows\n",
      "\n"
     ]
    },
    {
     "name": "stderr",
     "output_type": "stream",
     "text": [
      "                                                                                \r"
     ]
    }
   ],
   "source": [
    "print(\"For Wednesday for example excluding the holidays\")\n",
    "\n",
    "datawhol = spark.sql(\"\"\"SELECT F.FL_DATE, F.OP_CARRIER, F.ORIGIN, F.DEST, F.DEP_DELAY, H.Date\n",
    "                        FROM flights F LEFT JOIN holidays H ON F.FL_DATE=H.Date\n",
    "                        WHERE H.Date IS NULL\n",
    "                                      \"\"\")\n",
    "datawhol = datawhol.withColumn(\"Weekday\", (dayofweek(\"FL_DATE\")))\n",
    "datawhol.where(datawhol[\"Weekday\"] == 3).where(datawhol[\"FL_DATE\"]>=maxdate-datetime.timedelta(days=7)).groupby(\"OP_CARRIER\",\"ORIGIN\",\"DEST\").mean(\"DEP_DELAY\").show(5)\n",
    "datawhol.where(datawhol[\"Weekday\"] == 3).where(datawhol[\"FL_DATE\"]>=maxdate-datetime.timedelta(days=30)).groupby(\"OP_CARRIER\",\"ORIGIN\",\"DEST\").mean(\"DEP_DELAY\").show(5)\n",
    "datawhol.where(datawhol[\"Weekday\"] == 3).where(datawhol[\"FL_DATE\"]>=maxdate-datetime.timedelta(days=365)).groupby(\"OP_CARRIER\",\"ORIGIN\",\"DEST\").mean(\"DEP_DELAY\").show(5)"
   ]
  },
  {
   "cell_type": "markdown",
   "id": "9204ebac",
   "metadata": {
    "id": "9204ebac"
   },
   "source": [
    "#### Discussion\n",
    "\n",
    "**Explain your code and discuss results**"
   ]
  },
  {
   "cell_type": "markdown",
   "id": "822b0e6d",
   "metadata": {
    "id": "822b0e6d"
   },
   "source": [
    "## Problem 3 [4 points]\n",
    "\n",
    "Transform the flights data to include a class, depending on the delay - SHORT, LONG - depending on whether the departure delay was less than 10 minutes, or greater or equal to 10 minutes.\n",
    "\n",
    "Build and evaluate a classification model for the data.\n"
   ]
  },
  {
   "cell_type": "code",
   "execution_count": 8,
   "id": "6ed0db82",
   "metadata": {
    "id": "6ed0db82",
    "tags": []
   },
   "outputs": [
    {
     "name": "stdout",
     "output_type": "stream",
     "text": [
      "+----------+--------+-----+---------+-----------+\n",
      "|OP_CARRIER|DEP_TIME|MONTH|DEP_DELAY|DELAY_CLASS|\n",
      "+----------+--------+-----+---------+-----------+\n",
      "|        XE|   07:11|    7|       -6|          0|\n",
      "|        XE|   09:43|    7|       -5|          0|\n",
      "|        XE|   10:22|    7|       -4|          0|\n",
      "|        XE|   13:09|    7|       -9|          0|\n",
      "|        XE|   16:45|    7|       -2|          0|\n",
      "|        XE|   13:05|    7|       -4|          0|\n",
      "|        XE|   15:42|    7|      -12|          0|\n",
      "|        XE|   17:58|    7|        1|          0|\n",
      "|        XE|   21:39|    7|      123|          1|\n",
      "|        XE|   17:52|    7|       42|          1|\n",
      "|        XE|   10:14|    7|       -6|          0|\n",
      "|        XE|   08:11|    7|       -5|          0|\n",
      "|        XE|   13:47|    7|       -3|          0|\n",
      "|        XE|   11:05|    7|       -1|          0|\n",
      "|        XE|   10:07|    7|       -8|          0|\n",
      "|        XE|   08:20|    7|        0|          0|\n",
      "|        XE|   14:16|    7|      -11|          0|\n",
      "|        XE|   12:34|    7|       -4|          0|\n",
      "|        XE|   16:38|    7|       -7|          0|\n",
      "|        XE|   10:06|    7|       -4|          0|\n",
      "+----------+--------+-----+---------+-----------+\n",
      "only showing top 20 rows\n",
      "\n"
     ]
    }
   ],
   "source": [
    "tester = spark.sql(\"\"\"SELECT OP_CARRIER, DEP_TIME, month(FL_DATE) AS MONTH, DEP_DELAY,\n",
    "                      (CASE WHEN DEP_DELAY < 10 THEN 0 ELSE 1 END) AS DELAY_CLASS\n",
    "                      FROM flights\"\"\")\n",
    "tester.createOrReplaceTempView(\"test\")\n",
    "tester.show()"
   ]
  },
  {
   "cell_type": "code",
   "execution_count": 9,
   "id": "661b15ee-17a6-4a01-a6e9-c08803d41dbc",
   "metadata": {},
   "outputs": [
    {
     "name": "stdout",
     "output_type": "stream",
     "text": [
      "+----------+--------+-----+---------+-----------+------+------+------+------+-------+------+-------+\n",
      "|OP_CARRIER|DEP_TIME|MONTH|DEP_DELAY|DELAY_CLASS|Winter|Spring|Summer|Autumn|Morning|Midday|Evening|\n",
      "+----------+--------+-----+---------+-----------+------+------+------+------+-------+------+-------+\n",
      "|        XE|   07:11|    7|       -6|          0|     0|     0|     1|     0|      1|     0|      0|\n",
      "|        XE|   09:43|    7|       -5|          0|     0|     0|     1|     0|      1|     0|      0|\n",
      "|        XE|   10:22|    7|       -4|          0|     0|     0|     1|     0|      1|     0|      0|\n",
      "|        XE|   13:09|    7|       -9|          0|     0|     0|     1|     0|      0|     1|      0|\n",
      "|        XE|   16:45|    7|       -2|          0|     0|     0|     1|     0|      0|     1|      0|\n",
      "|        XE|   13:05|    7|       -4|          0|     0|     0|     1|     0|      0|     1|      0|\n",
      "|        XE|   15:42|    7|      -12|          0|     0|     0|     1|     0|      0|     1|      0|\n",
      "|        XE|   17:58|    7|        1|          0|     0|     0|     1|     0|      0|     1|      0|\n",
      "|        XE|   21:39|    7|      123|          1|     0|     0|     1|     0|      0|     0|      1|\n",
      "|        XE|   17:52|    7|       42|          1|     0|     0|     1|     0|      0|     1|      0|\n",
      "|        XE|   10:14|    7|       -6|          0|     0|     0|     1|     0|      1|     0|      0|\n",
      "|        XE|   08:11|    7|       -5|          0|     0|     0|     1|     0|      1|     0|      0|\n",
      "|        XE|   13:47|    7|       -3|          0|     0|     0|     1|     0|      0|     1|      0|\n",
      "|        XE|   11:05|    7|       -1|          0|     0|     0|     1|     0|      1|     0|      0|\n",
      "|        XE|   10:07|    7|       -8|          0|     0|     0|     1|     0|      1|     0|      0|\n",
      "|        XE|   08:20|    7|        0|          0|     0|     0|     1|     0|      1|     0|      0|\n",
      "|        XE|   14:16|    7|      -11|          0|     0|     0|     1|     0|      0|     1|      0|\n",
      "|        XE|   12:34|    7|       -4|          0|     0|     0|     1|     0|      0|     1|      0|\n",
      "|        XE|   16:38|    7|       -7|          0|     0|     0|     1|     0|      0|     1|      0|\n",
      "|        XE|   10:06|    7|       -4|          0|     0|     0|     1|     0|      1|     0|      0|\n",
      "+----------+--------+-----+---------+-----------+------+------+------+------+-------+------+-------+\n",
      "only showing top 20 rows\n",
      "\n"
     ]
    }
   ],
   "source": [
    "tester = tester.withColumn(\"Winter\", when(tester.MONTH == 12, 1)\n",
    "                                    .when(tester.MONTH == 1, 1)\n",
    "                                    .when(tester.MONTH == 2 ,1)\n",
    "                                    .otherwise(0))\\\n",
    "                .withColumn(\"Spring\", when(tester.MONTH == 3, 1)\n",
    "                                    .when(tester.MONTH == 4, 1)\n",
    "                                    .when(tester.MONTH == 5 ,1)\n",
    "                                    .otherwise(0))\\\n",
    "                .withColumn(\"Summer\", when(tester.MONTH == 6, 1)\n",
    "                                    .when(tester.MONTH == 7, 1)\n",
    "                                    .when(tester.MONTH == 8 ,1)\n",
    "                                    .otherwise(0))\\\n",
    "                .withColumn(\"Autumn\", when(tester.MONTH == 9, 1)\n",
    "                                    .when(tester.MONTH == 10, 1)\n",
    "                                    .when(tester.MONTH == 11 ,1)\n",
    "                                    .otherwise(0))\n",
    "tester = tester.withColumn(\"Morning\", when((tester.DEP_TIME <= \"11:59\") & (tester.DEP_TIME >= \"00:00\"), 1)\n",
    "                                    .otherwise(0))\\\n",
    "                .withColumn(\"Midday\", when((tester.DEP_TIME <= \"17:59\") & (tester.DEP_TIME >= \"12:00\"), 1)\n",
    "                                    .otherwise(0))\\\n",
    "                .withColumn(\"Evening\", when((tester.DEP_TIME <= \"23:59\") & (tester.DEP_TIME >= \"18:00\"), 1)\n",
    "                                    .otherwise(0))\n",
    "tester.show()"
   ]
  },
  {
   "cell_type": "code",
   "execution_count": 10,
   "id": "67b531f0-2194-45a3-bdbc-425408d24b86",
   "metadata": {},
   "outputs": [
    {
     "name": "stderr",
     "output_type": "stream",
     "text": [
      "                                                                                \r"
     ]
    }
   ],
   "source": [
    "categories = tester.select(\"OP_CARRIER\").distinct().rdd.flatMap(lambda x: x).collect()"
   ]
  },
  {
   "cell_type": "code",
   "execution_count": 12,
   "id": "61bed018-42ac-4456-a26a-4cc23a63c5fe",
   "metadata": {},
   "outputs": [
    {
     "name": "stdout",
     "output_type": "stream",
     "text": [
      "+-----------+------+------+------+------+-------+------+-------+\n",
      "|DELAY_CLASS|Winter|Spring|Summer|Autumn|Morning|Midday|Evening|\n",
      "+-----------+------+------+------+------+-------+------+-------+\n",
      "|          0|     0|     0|     1|     0|      1|     0|      0|\n",
      "|          0|     0|     0|     1|     0|      1|     0|      0|\n",
      "|          0|     0|     0|     1|     0|      1|     0|      0|\n",
      "|          0|     0|     0|     1|     0|      0|     1|      0|\n",
      "|          0|     0|     0|     1|     0|      0|     1|      0|\n",
      "|          0|     0|     0|     1|     0|      0|     1|      0|\n",
      "|          0|     0|     0|     1|     0|      0|     1|      0|\n",
      "|          0|     0|     0|     1|     0|      0|     1|      0|\n",
      "|          1|     0|     0|     1|     0|      0|     0|      1|\n",
      "|          1|     0|     0|     1|     0|      0|     1|      0|\n",
      "|          0|     0|     0|     1|     0|      1|     0|      0|\n",
      "|          0|     0|     0|     1|     0|      1|     0|      0|\n",
      "|          0|     0|     0|     1|     0|      0|     1|      0|\n",
      "|          0|     0|     0|     1|     0|      1|     0|      0|\n",
      "|          0|     0|     0|     1|     0|      1|     0|      0|\n",
      "|          0|     0|     0|     1|     0|      1|     0|      0|\n",
      "|          0|     0|     0|     1|     0|      0|     1|      0|\n",
      "|          0|     0|     0|     1|     0|      0|     1|      0|\n",
      "|          0|     0|     0|     1|     0|      0|     1|      0|\n",
      "|          0|     0|     0|     1|     0|      1|     0|      0|\n",
      "+-----------+------+------+------+------+-------+------+-------+\n",
      "only showing top 20 rows\n",
      "\n"
     ]
    }
   ],
   "source": [
    "exprs = [when(col(\"OP_CARRIER\") == category, 1).otherwise(0).alias(category) for category in categories]\n",
    "zaza = tester.select(\"DELAY_CLASS\", \"Winter\", \"Spring\", \"Summer\", \"Autumn\", \"Morning\", \"Midday\",\"Evening\")\n",
    "zaza.show()"
   ]
  },
  {
   "cell_type": "code",
   "execution_count": 13,
   "id": "01c2dd25-2515-4b8c-96d7-dbfdb2bb06e9",
   "metadata": {},
   "outputs": [
    {
     "name": "stderr",
     "output_type": "stream",
     "text": [
      "                                                                                \r"
     ]
    }
   ],
   "source": [
    "df = zaza.toPandas()"
   ]
  },
  {
   "cell_type": "code",
   "execution_count": 14,
   "id": "500779cf-e082-4d30-8d3e-003ecbd5969e",
   "metadata": {},
   "outputs": [
    {
     "data": {
      "text/html": [
       "<div>\n",
       "<style scoped>\n",
       "    .dataframe tbody tr th:only-of-type {\n",
       "        vertical-align: middle;\n",
       "    }\n",
       "\n",
       "    .dataframe tbody tr th {\n",
       "        vertical-align: top;\n",
       "    }\n",
       "\n",
       "    .dataframe thead th {\n",
       "        text-align: right;\n",
       "    }\n",
       "</style>\n",
       "<table border=\"1\" class=\"dataframe\">\n",
       "  <thead>\n",
       "    <tr style=\"text-align: right;\">\n",
       "      <th></th>\n",
       "      <th>DELAY_CLASS</th>\n",
       "      <th>Winter</th>\n",
       "      <th>Spring</th>\n",
       "      <th>Summer</th>\n",
       "      <th>Autumn</th>\n",
       "      <th>Morning</th>\n",
       "      <th>Midday</th>\n",
       "      <th>Evening</th>\n",
       "    </tr>\n",
       "  </thead>\n",
       "  <tbody>\n",
       "    <tr>\n",
       "      <th>0</th>\n",
       "      <td>0</td>\n",
       "      <td>0</td>\n",
       "      <td>0</td>\n",
       "      <td>1</td>\n",
       "      <td>0</td>\n",
       "      <td>1</td>\n",
       "      <td>0</td>\n",
       "      <td>0</td>\n",
       "    </tr>\n",
       "    <tr>\n",
       "      <th>1</th>\n",
       "      <td>0</td>\n",
       "      <td>0</td>\n",
       "      <td>0</td>\n",
       "      <td>1</td>\n",
       "      <td>0</td>\n",
       "      <td>1</td>\n",
       "      <td>0</td>\n",
       "      <td>0</td>\n",
       "    </tr>\n",
       "    <tr>\n",
       "      <th>2</th>\n",
       "      <td>0</td>\n",
       "      <td>0</td>\n",
       "      <td>0</td>\n",
       "      <td>1</td>\n",
       "      <td>0</td>\n",
       "      <td>1</td>\n",
       "      <td>0</td>\n",
       "      <td>0</td>\n",
       "    </tr>\n",
       "    <tr>\n",
       "      <th>3</th>\n",
       "      <td>0</td>\n",
       "      <td>0</td>\n",
       "      <td>0</td>\n",
       "      <td>1</td>\n",
       "      <td>0</td>\n",
       "      <td>0</td>\n",
       "      <td>1</td>\n",
       "      <td>0</td>\n",
       "    </tr>\n",
       "    <tr>\n",
       "      <th>4</th>\n",
       "      <td>0</td>\n",
       "      <td>0</td>\n",
       "      <td>0</td>\n",
       "      <td>1</td>\n",
       "      <td>0</td>\n",
       "      <td>0</td>\n",
       "      <td>1</td>\n",
       "      <td>0</td>\n",
       "    </tr>\n",
       "    <tr>\n",
       "      <th>...</th>\n",
       "      <td>...</td>\n",
       "      <td>...</td>\n",
       "      <td>...</td>\n",
       "      <td>...</td>\n",
       "      <td>...</td>\n",
       "      <td>...</td>\n",
       "      <td>...</td>\n",
       "      <td>...</td>\n",
       "    </tr>\n",
       "    <tr>\n",
       "      <th>2363600</th>\n",
       "      <td>1</td>\n",
       "      <td>0</td>\n",
       "      <td>0</td>\n",
       "      <td>1</td>\n",
       "      <td>0</td>\n",
       "      <td>0</td>\n",
       "      <td>1</td>\n",
       "      <td>0</td>\n",
       "    </tr>\n",
       "    <tr>\n",
       "      <th>2363601</th>\n",
       "      <td>0</td>\n",
       "      <td>0</td>\n",
       "      <td>0</td>\n",
       "      <td>1</td>\n",
       "      <td>0</td>\n",
       "      <td>0</td>\n",
       "      <td>1</td>\n",
       "      <td>0</td>\n",
       "    </tr>\n",
       "    <tr>\n",
       "      <th>2363602</th>\n",
       "      <td>0</td>\n",
       "      <td>0</td>\n",
       "      <td>0</td>\n",
       "      <td>1</td>\n",
       "      <td>0</td>\n",
       "      <td>0</td>\n",
       "      <td>0</td>\n",
       "      <td>1</td>\n",
       "    </tr>\n",
       "    <tr>\n",
       "      <th>2363603</th>\n",
       "      <td>0</td>\n",
       "      <td>0</td>\n",
       "      <td>0</td>\n",
       "      <td>1</td>\n",
       "      <td>0</td>\n",
       "      <td>0</td>\n",
       "      <td>1</td>\n",
       "      <td>0</td>\n",
       "    </tr>\n",
       "    <tr>\n",
       "      <th>2363604</th>\n",
       "      <td>0</td>\n",
       "      <td>0</td>\n",
       "      <td>0</td>\n",
       "      <td>1</td>\n",
       "      <td>0</td>\n",
       "      <td>0</td>\n",
       "      <td>1</td>\n",
       "      <td>0</td>\n",
       "    </tr>\n",
       "  </tbody>\n",
       "</table>\n",
       "<p>2363605 rows × 8 columns</p>\n",
       "</div>"
      ],
      "text/plain": [
       "         DELAY_CLASS  Winter  Spring  Summer  Autumn  Morning  Midday  Evening\n",
       "0                  0       0       0       1       0        1       0        0\n",
       "1                  0       0       0       1       0        1       0        0\n",
       "2                  0       0       0       1       0        1       0        0\n",
       "3                  0       0       0       1       0        0       1        0\n",
       "4                  0       0       0       1       0        0       1        0\n",
       "...              ...     ...     ...     ...     ...      ...     ...      ...\n",
       "2363600            1       0       0       1       0        0       1        0\n",
       "2363601            0       0       0       1       0        0       1        0\n",
       "2363602            0       0       0       1       0        0       0        1\n",
       "2363603            0       0       0       1       0        0       1        0\n",
       "2363604            0       0       0       1       0        0       1        0\n",
       "\n",
       "[2363605 rows x 8 columns]"
      ]
     },
     "execution_count": 14,
     "metadata": {},
     "output_type": "execute_result"
    }
   ],
   "source": [
    "df"
   ]
  },
  {
   "cell_type": "code",
   "execution_count": 18,
   "id": "be9849e8-56b9-49d0-bac7-7eb02fdb9ae0",
   "metadata": {},
   "outputs": [],
   "source": [
    "from sklearn.preprocessing import StandardScaler\n",
    "from sklearn.linear_model import LogisticRegression\n",
    "from sklearn.model_selection import train_test_split\n",
    "\n",
    "x = df.drop(['DELAY_CLASS'], axis=1)\n",
    "features = StandardScaler().fit_transform(x)\n",
    "\n",
    "y = df['DELAY_CLASS']\n",
    "\n",
    "x_train, x_test, y_train, y_test = train_test_split(features, y, test_size=0.33)\n",
    "\n",
    "logreg = LogisticRegression()\n",
    "# fit the model with data\n",
    "logreg.fit(x_train,y_train)\n",
    "y_pred=logreg.predict(x_test)"
   ]
  },
  {
   "cell_type": "code",
   "execution_count": 21,
   "id": "59af5776-8d22-4dcb-a408-e7b927ba31bd",
   "metadata": {},
   "outputs": [
    {
     "data": {
      "text/plain": [
       "Text(0.5, 352.48, 'Predicted label')"
      ]
     },
     "execution_count": 21,
     "metadata": {},
     "output_type": "execute_result"
    },
    {
     "data": {
      "image/png": "[encoded data removed]",
      "text/plain": [
       "<Figure size 576x396 with 2 Axes>"
      ]
     },
     "metadata": {},
     "output_type": "display_data"
    }
   ],
   "source": [
    "from sklearn import metrics\n",
    "cnf_matrix = metrics.confusion_matrix(y_test, y_pred)\n",
    "\n",
    "class_names=[0,1] # name  of classes\n",
    "fig, ax = plt.subplots()\n",
    "tick_marks = np.arange(len(class_names))\n",
    "plt.xticks(tick_marks, class_names)\n",
    "plt.yticks(tick_marks, class_names)\n",
    "# create heatmap\n",
    "sns.heatmap(pd.DataFrame(cnf_matrix), annot=True, cmap=\"YlGnBu\" ,fmt='g')\n",
    "ax.xaxis.set_label_position(\"top\")\n",
    "plt.tight_layout()\n",
    "plt.title('Confusion matrix', y=1.1)\n",
    "plt.ylabel('Actual label')\n",
    "plt.xlabel('Predicted label')"
   ]
  },
  {
   "cell_type": "code",
   "execution_count": 22,
   "id": "e34c03e2-2501-4b66-96a9-5b010de5c5b6",
   "metadata": {},
   "outputs": [
    {
     "name": "stdout",
     "output_type": "stream",
     "text": [
      "Precision: 0.9960780370072405\n",
      "Recall: 0.04902033564453947\n",
      "Accuracy: 0.753595558917422\n"
     ]
    }
   ],
   "source": [
    "print(\"Precision:\",metrics.precision_score(y_test, y_pred))\n",
    "print(\"Recall:\",metrics.recall_score(y_test, y_pred))\n",
    "print(\"Accuracy:\",metrics.accuracy_score(y_test, y_pred))"
   ]
  },
  {
   "cell_type": "markdown",
   "id": "9f5c396f",
   "metadata": {
    "id": "9f5c396f"
   },
   "source": [
    "#### Discussion\n",
    "\n",
    "**Explain your code and discuss results**"
   ]
  },
  {
   "cell_type": "markdown",
   "id": "e53677c5",
   "metadata": {
    "id": "e53677c5"
   },
   "source": [
    "## Problem 4 [4 points]\n",
    "\n",
    "Consider we want to cluster airports depending on their properties, such as average number of flights per day, delays, cancellations, etc.\n",
    "\n",
    "Measure the quality of your clustering result."
   ]
  },
  {
   "cell_type": "code",
   "execution_count": 24,
   "id": "9338a0a3",
   "metadata": {
    "id": "9338a0a3",
    "tags": []
   },
   "outputs": [
    {
     "name": "stderr",
     "output_type": "stream",
     "text": [
      "                                                                                \r"
     ]
    }
   ],
   "source": [
    "from pyspark.ml.clustering import KMeans\n",
    "from pyspark.ml.evaluation import ClusteringEvaluator\n",
    "from pyspark.ml.feature import VectorAssembler\n",
    "\n",
    "airport_stats = spark.sql(\"\"\"SELECT name, AVG(DEP_DELAY) as dep_delay, AVG(ARR_DELAY) as arr_delay FROM flights\n",
    "                    JOIN airports ON airports.iata_code=flights.ORIGIN where cancelled=0 GROUP BY name\"\"\")\n",
    "\n",
    "\n",
    "assembler = VectorAssembler(inputCols=(\"dep_delay\", \"arr_delay\"), outputCol = \"features\")\n",
    "dataset = assembler.transform(airport_stats)\n",
    "\n",
    "cluster_qualities = []\n",
    "bestK = 0\n",
    "bestQ = 1\n",
    "\n",
    "for i in range(5, 10): \n",
    "    kmeans = KMeans().setK(i).setSeed(1)\n",
    "    model = kmeans.fit(dataset)\n",
    "    centers = model.clusterCenters()\n",
    "    predictions = model.transform(dataset)\n",
    "    evaluator = ClusteringEvaluator()\n",
    "    evaluator.setPredictionCol(\"prediction\")\n",
    "    currentQ = evaluator.evaluate(predictions)\n",
    "    cluster_qualities.append(currentQ)\n",
    "    if currentQ < bestQ:\n",
    "        bestQ = currentQ\n",
    "        bestK = i\n",
    "    else:\n",
    "        continue"
   ]
  },
  {
   "cell_type": "code",
   "execution_count": 53,
   "id": "48b80b9b-722e-4ad7-af18-999927611a7a",
   "metadata": {},
   "outputs": [
    {
     "data": {
      "text/plain": [
       "[<matplotlib.lines.Line2D at 0x7f4c736181f0>]"
      ]
     },
     "execution_count": 53,
     "metadata": {},
     "output_type": "execute_result"
    },
    {
     "data": {
      "image/png": "[encoded data removed]",
      "text/plain": [
       "<Figure size 576x396 with 1 Axes>"
      ]
     },
     "metadata": {},
     "output_type": "display_data"
    }
   ],
   "source": [
    "import matplotlib.pyplot as plt\n",
    "plt.plot([i for i in range(5, 10)], cluster_qualities)"
   ]
  },
  {
   "cell_type": "code",
   "execution_count": 26,
   "id": "e3f30f33-2195-4f56-8d4e-a6b1de2c8831",
   "metadata": {},
   "outputs": [
    {
     "name": "stderr",
     "output_type": "stream",
     "text": [
      "                                                                                \r"
     ]
    }
   ],
   "source": [
    "kmeans = KMeans().setK(bestK).setSeed(1)\n",
    "model = kmeans.fit(dataset)\n",
    "centers = model.clusterCenters()\n",
    "predictions = model.transform(dataset)"
   ]
  },
  {
   "cell_type": "code",
   "execution_count": 28,
   "id": "1a87c179-f873-453b-802b-828c6b826ae2",
   "metadata": {},
   "outputs": [
    {
     "name": "stderr",
     "output_type": "stream",
     "text": [
      "[Stage 357:==========================================>          (162 + 1) / 200]\r"
     ]
    },
    {
     "name": "stdout",
     "output_type": "stream",
     "text": [
      "Quality of predictions (higher is better):0.5650567242570361\n"
     ]
    },
    {
     "name": "stderr",
     "output_type": "stream",
     "text": [
      "                                                                                \r"
     ]
    }
   ],
   "source": [
    "evaluator = ClusteringEvaluator()\n",
    "evaluator.setPredictionCol(\"prediction\")\n",
    "print( \"Quality of predictions (higher is better):\" + str(evaluator.evaluate(predictions)))"
   ]
  },
  {
   "cell_type": "code",
   "execution_count": 29,
   "id": "c48071fd-39ab-447c-8983-0a4cda62e1fc",
   "metadata": {},
   "outputs": [
    {
     "name": "stderr",
     "output_type": "stream",
     "text": [
      "/usr/local/spark/python/pyspark/sql/pandas/conversion.py:87: UserWarning: toPandas attempted Arrow optimization because 'spark.sql.execution.arrow.pyspark.enabled' is set to true; however, failed by the reason below:\n",
      "  Unsupported type in conversion to Arrow: VectorUDT\n",
      "Attempting non-optimization as 'spark.sql.execution.arrow.pyspark.fallback.enabled' is set to true.\n",
      "  warnings.warn(msg)\n",
      "                                                                                \r"
     ]
    }
   ],
   "source": [
    "predictionsPD = predictions.toPandas()"
   ]
  },
  {
   "cell_type": "code",
   "execution_count": 50,
   "id": "c24fb97a-daa7-4cf3-9625-0ceba9922e2a",
   "metadata": {},
   "outputs": [
    {
     "data": {
      "text/plain": [
       "<AxesSubplot:xlabel='x', ylabel='y'>"
      ]
     },
     "execution_count": 50,
     "metadata": {},
     "output_type": "execute_result"
    },
    {
     "data": {
      "image/png": "[encoded data removed]",
      "text/plain": [
       "<Figure size 1440x720 with 2 Axes>"
      ]
     },
     "metadata": {},
     "output_type": "display_data"
    }
   ],
   "source": [
    "predictionsPD.plot.scatter(figsize=(20,10), x=\"x\", y=\"y\", c=\"prediction\",s=20,cmap='gist_ncar') "
   ]
  },
  {
   "cell_type": "markdown",
   "id": "953bacbe",
   "metadata": {
    "id": "953bacbe"
   },
   "source": [
    "#### Discussion\n",
    "\n",
    "**Explain your code and discuss results**"
   ]
  },
  {
   "cell_type": "markdown",
   "id": "1f71dae3",
   "metadata": {
    "id": "1f71dae3"
   },
   "source": [
    "## Problem 5 [3 points]\n",
    "\n",
    "We now want to find communities of airports, i.e., airports that are connected based on the flights that exist.\n",
    "\n",
    "Propose an algorithm to solve this problem and plot the communities as a graph. Run the program with and without GPU support."
   ]
  },
  {
   "cell_type": "code",
   "execution_count": 16,
   "id": "a523508e",
   "metadata": {
    "id": "a523508e",
    "tags": []
   },
   "outputs": [
    {
     "name": "stderr",
     "output_type": "stream",
     "text": [
      "[Stage 396:============================>                            (1 + 1) / 2]\r"
     ]
    },
    {
     "name": "stdout",
     "output_type": "stream",
     "text": [
      "+---+---+----+\n",
      "|src|dst| cnt|\n",
      "+---+---+----+\n",
      "|SFO|LAX|5589|\n",
      "|LAX|SFO|5557|\n",
      "|JFK|LAX|4352|\n",
      "|LAX|JFK|4351|\n",
      "|OGG|HNL|4133|\n",
      "|LAX|LAS|4106|\n",
      "|HNL|OGG|4102|\n",
      "|LAS|LAX|4097|\n",
      "|LGA|ORD|3787|\n",
      "|ORD|LGA|3761|\n",
      "|LGA|ATL|3370|\n",
      "|ATL|LGA|3367|\n",
      "|ATL|MCO|3327|\n",
      "|MCO|ATL|3325|\n",
      "|LAX|ORD|3268|\n",
      "|ORD|LAX|3166|\n",
      "|ANC|SEA|3149|\n",
      "|SEA|ANC|3148|\n",
      "|KOA|HNL|3129|\n",
      "|HNL|KOA|3085|\n",
      "+---+---+----+\n",
      "only showing top 20 rows\n",
      "\n"
     ]
    },
    {
     "name": "stderr",
     "output_type": "stream",
     "text": [
      "                                                                                \r"
     ]
    }
   ],
   "source": [
    "import matplotlib.pyplot as plt\n",
    "from graphframes import *\n",
    "\n",
    "\n",
    "e = spark.sql( \"\"\"SELECT origin AS src,\n",
    "         dest AS dst,\n",
    "         COUNT(*) AS cnt\n",
    "         FROM flights\n",
    "         GROUP BY src, dst\n",
    "         ORDER BY cnt DESC\"\"\")\n",
    "\n",
    "e.createOrReplaceTempView(\"edges\")\n",
    "e.show()\n",
    "\n",
    "\n",
    "v = spark.sql( \"\"\"SELECT f.id, \n",
    "            FLOAT(TRIM(SUBSTRING_INDEX(a.coordinates,',',1))) AS lon, \n",
    "            FLOAT(TRIM(SUBSTRING_INDEX(a.coordinates,',',-1))) AS lat \n",
    "            FROM \n",
    "                (SELECT src AS id \n",
    "                FROM edges\n",
    "                \n",
    "                UNION \n",
    "                \n",
    "                SELECT dst AS id \n",
    "                FROM edges) f \n",
    "            JOIN airports a \n",
    "            ON f.id = a.iata_code\"\"\")\n",
    "\n",
    "g = GraphFrame(v, e)"
   ]
  },
  {
   "cell_type": "code",
   "execution_count": 17,
   "id": "bbd34137-e063-4534-acc1-0bb405949cb0",
   "metadata": {},
   "outputs": [
    {
     "name": "stderr",
     "output_type": "stream",
     "text": [
      "[Stage 675:====================================================>(199 + 1) / 200]\r"
     ]
    },
    {
     "name": "stdout",
     "output_type": "stream",
     "text": [
      "+---+------------+\n",
      "| id|       label|\n",
      "+---+------------+\n",
      "|BTM|661424963585|\n",
      "|OGS|661424963585|\n",
      "|ATW|661424963585|\n",
      "|ALO|661424963585|\n",
      "|HTS|858993459200|\n",
      "|YAK|661424963585|\n",
      "|DLG|592705486851|\n",
      "|SNA|592705486851|\n",
      "|BOS|592705486851|\n",
      "|IMT|661424963585|\n",
      "|MFR|661424963585|\n",
      "|BWI|592705486851|\n",
      "|ABI|661424963585|\n",
      "|SCE|661424963585|\n",
      "|BGM|858993459200|\n",
      "|GTR|661424963585|\n",
      "|UIN|661424963585|\n",
      "|AKN|592705486851|\n",
      "|FAT|661424963585|\n",
      "|YUM|661424963585|\n",
      "+---+------------+\n",
      "only showing top 20 rows\n",
      "\n"
     ]
    },
    {
     "name": "stderr",
     "output_type": "stream",
     "text": [
      "                                                                                \r"
     ]
    }
   ],
   "source": [
    "resultz = g.labelPropagation(maxIter=5)\n",
    "resultz.select(\"id\", \"label\").show()"
   ]
  },
  {
   "cell_type": "code",
   "execution_count": 18,
   "id": "72c88578-1014-4d69-aeac-adb6db546594",
   "metadata": {},
   "outputs": [
    {
     "name": "stderr",
     "output_type": "stream",
     "text": [
      "                                                                                \r"
     ]
    },
    {
     "data": {
      "text/plain": [
       "<AxesSubplot:xlabel='lon', ylabel='lat'>"
      ]
     },
     "execution_count": 18,
     "metadata": {},
     "output_type": "execute_result"
    },
    {
     "data": {
      "image/png": "[encoded data removed]",
      "text/plain": [
       "<Figure size 1080x504 with 2 Axes>"
      ]
     },
     "metadata": {},
     "output_type": "display_data"
    }
   ],
   "source": [
    "dff= resultz.toPandas()\n",
    "dff.plot(x=\"lon\",y=\"lat\",c=\"label\",s=10,cmap=\"rainbow\",kind=\"scatter\",figsize=(15,7))"
   ]
  },
  {
   "cell_type": "code",
   "execution_count": 22,
   "id": "fc9d0b73-be58-4b9e-a05a-6ed35fbaf313",
   "metadata": {},
   "outputs": [],
   "source": [
    "edges = spark.sql( \"\"\"SELECT\n",
    "    origin AS src,\n",
    "    dest AS dst,\n",
    "    COUNT(*) AS cnt\n",
    "    FROM flights\n",
    "    GROUP BY src, dst\"\"\")\n",
    "edges.createOrReplaceTempView(\"edges\")"
   ]
  },
  {
   "cell_type": "code",
   "execution_count": 23,
   "id": "155a3ce1-6ed3-45a8-91a6-03661b026d16",
   "metadata": {},
   "outputs": [],
   "source": [
    "vertices = spark.sql( \"\"\"SELECT f.id,\n",
    "    FLOAT(TRIM(SUBSTRING_INDEX(a.coordinates,',',1))) AS lon,\n",
    "    FLOAT(TRIM(SUBSTRING_INDEX(a.coordinates,',',-1))) AS lat\n",
    "    FROM (SELECT src AS id FROM edges\n",
    "    UNION SELECT dst AS id FROM edges) f\n",
    "    JOIN airports a ON f.id = a.iata_code\"\"\")"
   ]
  },
  {
   "cell_type": "code",
   "execution_count": 24,
   "id": "629e7549-f467-4ee4-9e69-5f4d72170393",
   "metadata": {},
   "outputs": [
    {
     "name": "stderr",
     "output_type": "stream",
     "text": [
      "[Stage 875:=================================================>   (187 + 1) / 200]\r"
     ]
    },
    {
     "name": "stdout",
     "output_type": "stream",
     "text": [
      "+--------------------+----------------+--------------------+----------------+\n",
      "|                   a|               e|                   b|              e2|\n",
      "+--------------------+----------------+--------------------+----------------+\n",
      "|{MEM, -89.9767, 3...|  {MEM, AMA, 44}|{AMA, -101.706, 3...|  {AMA, MEM, 44}|\n",
      "|{GSP, -82.2189, 3...|{GSP, ATL, 1150}|{ATL, -84.4281, 3...|{ATL, GSP, 1151}|\n",
      "|{MCO, -81.309, 28...| {MCO, BQN, 270}|{BQN, -67.1294, 1...| {BQN, MCO, 270}|\n",
      "|{SJU, -66.0018, 1...|  {SJU, CLE, 17}|{CLE, -81.8498, 4...|  {CLE, SJU, 15}|\n",
      "|{EWR, -74.1687, 4...|  {EWR, DSM, 94}|{DSM, -93.6631, 4...|  {DSM, EWR, 98}|\n",
      "|{MCO, -81.309, 28...|  {MCO, DSM, 14}|{DSM, -93.6631, 4...|  {DSM, MCO, 14}|\n",
      "|{STT, -64.9734, 1...|  {STT, EWR, 55}|{EWR, -74.1687, 4...|  {EWR, STT, 55}|\n",
      "|{ATL, -84.4281, 3...|  {ATL, FSD, 86}|{FSD, -96.7419, 4...|  {FSD, ATL, 86}|\n",
      "|{LIT, -92.2243, 3...| {LIT, LAS, 137}|{LAS, -115.152, 3...| {LAS, LIT, 137}|\n",
      "|{OXR, -119.207, 3...|  {OXR, LAX, 51}|{LAX, -118.408, 3...|  {LAX, OXR, 51}|\n",
      "|{DEN, -104.673, 3...| {DEN, LBB, 197}|{LBB, -101.823, 3...| {LBB, DEN, 196}|\n",
      "|{IAH, -95.3414, 2...| {IAH, MCI, 821}|{MCI, -94.7139, 3...| {MCI, IAH, 816}|\n",
      "|{MKE, -87.8966, 4...| {MKE, MCI, 235}|{MCI, -94.7139, 3...| {MCI, MKE, 239}|\n",
      "|{MEM, -89.9767, 3...| {MEM, MDW, 139}|{MDW, -87.7524, 4...| {MDW, MEM, 139}|\n",
      "|{MCO, -81.309, 28...|  {MCO, MLI, 17}|{MLI, -90.5075, 4...|  {MLI, MCO, 17}|\n",
      "|{PSM, -70.8233, 4...|   {PSM, MYR, 4}|{MYR, -78.9283, 3...|   {MYR, PSM, 4}|\n",
      "|{PDX, -122.598, 4...|{PDX, ORD, 1033}|{ORD, -87.9048, 4...|{ORD, PDX, 1043}|\n",
      "|{DCA, -77.0377, 3...| {DCA, PBI, 206}|{PBI, -80.0956, 2...| {PBI, DCA, 206}|\n",
      "|{MCO, -81.309, 28...|{MCO, PHL, 1968}|{PHL, -75.2411, 3...|{PHL, MCO, 1966}|\n",
      "|{VPS, -86.5254, 3...|   {VPS, PIT, 4}|{PIT, -80.2329, 4...|   {PIT, VPS, 4}|\n",
      "+--------------------+----------------+--------------------+----------------+\n",
      "only showing top 20 rows\n",
      "\n"
     ]
    },
    {
     "name": "stderr",
     "output_type": "stream",
     "text": [
      "                                                                                \r"
     ]
    }
   ],
   "source": [
    "from graphframes import *\n",
    "g = GraphFrame(vertices, edges)\n",
    "motifs = g.find(\"(a)-[e]->(b); (b)-[e2]->(a)\")\n",
    "motifs.show()"
   ]
  },
  {
   "cell_type": "code",
   "execution_count": 25,
   "id": "a4073d92-aefb-426b-8e91-c89e9c191c32",
   "metadata": {},
   "outputs": [
    {
     "name": "stderr",
     "output_type": "stream",
     "text": [
      "[Stage 1073:===========================================>        (169 + 1) / 200]\r"
     ]
    },
    {
     "name": "stdout",
     "output_type": "stream",
     "text": [
      "+---+-------------+\n",
      "| id|        label|\n",
      "+---+-------------+\n",
      "|BTM| 858993459200|\n",
      "|OGS| 858993459200|\n",
      "|ATW| 858993459200|\n",
      "|ALO| 858993459200|\n",
      "|HTS| 858993459200|\n",
      "|YAK|1047972020225|\n",
      "|DLG| 592705486851|\n",
      "|SNA| 858993459200|\n",
      "|BOS| 858993459200|\n",
      "|IMT| 858993459200|\n",
      "|MFR| 858993459200|\n",
      "|BWI| 858993459200|\n",
      "|ABI| 858993459200|\n",
      "|SCE| 858993459200|\n",
      "|BGM| 858993459200|\n",
      "|GTR| 858993459200|\n",
      "|UIN| 858993459200|\n",
      "|AKN| 592705486851|\n",
      "|FAT| 858993459200|\n",
      "|YUM| 858993459200|\n",
      "+---+-------------+\n",
      "only showing top 20 rows\n",
      "\n"
     ]
    },
    {
     "name": "stderr",
     "output_type": "stream",
     "text": [
      "                                                                                \r"
     ]
    }
   ],
   "source": [
    "directed_out=g.outDegrees\n",
    "edges = edges.join(directed_out,edges.src==directed_out.id,\"left\")\n",
    "edges = edges.where(\"cnt>=(0.10*outDegree)\")\n",
    "g = GraphFrame(vertices, edges)\n",
    "\n",
    "result = g.labelPropagation(maxIter=5)\n",
    "result = result.where(col(\"lon\")<=140)\n",
    "result.select(\"id\", \"label\").show()"
   ]
  },
  {
   "cell_type": "code",
   "execution_count": 13,
   "id": "a34435fe-1040-467f-84e0-726a8aa71cae",
   "metadata": {},
   "outputs": [
    {
     "name": "stdout",
     "output_type": "stream",
     "text": [
      "Plotting airport location - using communities for different color\n"
     ]
    },
    {
     "name": "stderr",
     "output_type": "stream",
     "text": [
      "                                                                                \r"
     ]
    },
    {
     "data": {
      "text/plain": [
       "<AxesSubplot:xlabel='lon', ylabel='lat'>"
      ]
     },
     "execution_count": 13,
     "metadata": {},
     "output_type": "execute_result"
    },
    {
     "data": {
      "image/png": "[encoded data removed]",
      "text/plain": [
       "<Figure size 1080x504 with 2 Axes>"
      ]
     },
     "metadata": {},
     "output_type": "display_data"
    }
   ],
   "source": [
    "print('Plotting airport location - using communities for different color')\n",
    "result = result.toPandas()\n",
    "result.plot(x=\"lon\",y=\"lat\",c=\"label\",s=10,cmap=\"rainbow\",kind=\"scatter\",figsize=(15,7))"
   ]
  },
  {
   "cell_type": "code",
   "execution_count": 15,
   "id": "91d94f2d-0a43-4901-8e3b-46c7b8d69e3a",
   "metadata": {},
   "outputs": [
    {
     "data": {
      "text/html": [
       "<div>\n",
       "<style scoped>\n",
       "    .dataframe tbody tr th:only-of-type {\n",
       "        vertical-align: middle;\n",
       "    }\n",
       "\n",
       "    .dataframe tbody tr th {\n",
       "        vertical-align: top;\n",
       "    }\n",
       "\n",
       "    .dataframe thead th {\n",
       "        text-align: right;\n",
       "    }\n",
       "</style>\n",
       "<table border=\"1\" class=\"dataframe\">\n",
       "  <thead>\n",
       "    <tr style=\"text-align: right;\">\n",
       "      <th></th>\n",
       "      <th>id</th>\n",
       "      <th>lon</th>\n",
       "      <th>lat</th>\n",
       "      <th>label</th>\n",
       "    </tr>\n",
       "  </thead>\n",
       "  <tbody>\n",
       "    <tr>\n",
       "      <th>0</th>\n",
       "      <td>BTM</td>\n",
       "      <td>-112.497002</td>\n",
       "      <td>45.954800</td>\n",
       "      <td>858993459200</td>\n",
       "    </tr>\n",
       "    <tr>\n",
       "      <th>1</th>\n",
       "      <td>OGS</td>\n",
       "      <td>-75.465500</td>\n",
       "      <td>44.681900</td>\n",
       "      <td>858993459200</td>\n",
       "    </tr>\n",
       "    <tr>\n",
       "      <th>2</th>\n",
       "      <td>ATW</td>\n",
       "      <td>-88.519096</td>\n",
       "      <td>44.258099</td>\n",
       "      <td>858993459200</td>\n",
       "    </tr>\n",
       "    <tr>\n",
       "      <th>3</th>\n",
       "      <td>ALO</td>\n",
       "      <td>-92.400299</td>\n",
       "      <td>42.557098</td>\n",
       "      <td>858993459200</td>\n",
       "    </tr>\n",
       "    <tr>\n",
       "      <th>4</th>\n",
       "      <td>HTS</td>\n",
       "      <td>-82.557999</td>\n",
       "      <td>38.366699</td>\n",
       "      <td>858993459200</td>\n",
       "    </tr>\n",
       "    <tr>\n",
       "      <th>...</th>\n",
       "      <td>...</td>\n",
       "      <td>...</td>\n",
       "      <td>...</td>\n",
       "      <td>...</td>\n",
       "    </tr>\n",
       "    <tr>\n",
       "      <th>361</th>\n",
       "      <td>OGG</td>\n",
       "      <td>-156.429993</td>\n",
       "      <td>20.898600</td>\n",
       "      <td>858993459200</td>\n",
       "    </tr>\n",
       "    <tr>\n",
       "      <th>362</th>\n",
       "      <td>GSO</td>\n",
       "      <td>-79.937302</td>\n",
       "      <td>36.097801</td>\n",
       "      <td>858993459200</td>\n",
       "    </tr>\n",
       "    <tr>\n",
       "      <th>363</th>\n",
       "      <td>ACT</td>\n",
       "      <td>-97.230499</td>\n",
       "      <td>31.611300</td>\n",
       "      <td>858993459200</td>\n",
       "    </tr>\n",
       "    <tr>\n",
       "      <th>364</th>\n",
       "      <td>PSC</td>\n",
       "      <td>-119.119003</td>\n",
       "      <td>46.264702</td>\n",
       "      <td>858993459200</td>\n",
       "    </tr>\n",
       "    <tr>\n",
       "      <th>365</th>\n",
       "      <td>MDT</td>\n",
       "      <td>-76.763397</td>\n",
       "      <td>40.193501</td>\n",
       "      <td>858993459200</td>\n",
       "    </tr>\n",
       "  </tbody>\n",
       "</table>\n",
       "<p>366 rows × 4 columns</p>\n",
       "</div>"
      ],
      "text/plain": [
       "      id         lon        lat         label\n",
       "0    BTM -112.497002  45.954800  858993459200\n",
       "1    OGS  -75.465500  44.681900  858993459200\n",
       "2    ATW  -88.519096  44.258099  858993459200\n",
       "3    ALO  -92.400299  42.557098  858993459200\n",
       "4    HTS  -82.557999  38.366699  858993459200\n",
       "..   ...         ...        ...           ...\n",
       "361  OGG -156.429993  20.898600  858993459200\n",
       "362  GSO  -79.937302  36.097801  858993459200\n",
       "363  ACT  -97.230499  31.611300  858993459200\n",
       "364  PSC -119.119003  46.264702  858993459200\n",
       "365  MDT  -76.763397  40.193501  858993459200\n",
       "\n",
       "[366 rows x 4 columns]"
      ]
     },
     "execution_count": 15,
     "metadata": {},
     "output_type": "execute_result"
    }
   ],
   "source": [
    "result"
   ]
  },
  {
   "cell_type": "markdown",
   "id": "fc569949",
   "metadata": {
    "id": "fc569949"
   },
   "source": [
    "#### Discussion\n",
    "\n",
    "**Explain your code and discuss results**"
   ]
  }
 ],
 "metadata": {
  "accelerator": "GPU",
  "colab": {
   "name": "Group_project.ipynb",
   "provenance": []
  },
  "kernelspec": {
   "display_name": "Python 3 (ipykernel)",
   "language": "python",
   "name": "python3"
  },
  "language_info": {
   "codemirror_mode": {
    "name": "ipython",
    "version": 3
   },
   "file_extension": ".py",
   "mimetype": "text/x-python",
   "name": "python",
   "nbconvert_exporter": "python",
   "pygments_lexer": "ipython3",
   "version": "3.9.6"
  }
 },
 "nbformat": 4,
 "nbformat_minor": 5
}
